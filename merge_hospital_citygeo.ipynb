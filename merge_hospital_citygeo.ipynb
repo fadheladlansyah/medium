{
  "nbformat": 4,
  "nbformat_minor": 0,
  "metadata": {
    "colab": {
      "name": "Merge Data RS and City-level Geospatial.ipynb",
      "provenance": [],
      "collapsed_sections": [],
      "toc_visible": true
    },
    "kernelspec": {
      "name": "python3",
      "display_name": "Python 3"
    }
  },
  "cells": [
    {
      "cell_type": "markdown",
      "metadata": {
        "id": "-TSqsb_U3CSD"
      },
      "source": [
        "**About**\r\n",
        "\r\n",
        "Notebook ini akan mencoba manggabungkan data rumah sakit rujukan dengan data geospasial kota. Data geospasial kota ini belum di-support dalam fitur Tableau."
      ]
    },
    {
      "cell_type": "markdown",
      "metadata": {
        "id": "JKAGEqL1fZgL"
      },
      "source": [
        "### Get shapefile\r\n",
        "\r\n",
        "Satu sumber yang sudah merangkum dan membuka data geospasial dengan baik adalah [GADM](https://gadm.org/download_country_v3.html)"
      ]
    },
    {
      "cell_type": "code",
      "metadata": {
        "id": "gGPAxsKXfFBa"
      },
      "source": [
        "import urllib.request\r\n",
        "from tqdm import tqdm\r\n",
        "\r\n",
        "class DownloadProgressBar(tqdm):\r\n",
        "    def update_to(self, b=1, bsize=1, tsize=None):\r\n",
        "        if tsize is not None:\r\n",
        "            self.total = tsize\r\n",
        "        self.update(b * bsize - self.n)\r\n",
        "\r\n",
        "def download_url(url, output_path):\r\n",
        "    with DownloadProgressBar(unit='B', unit_scale=True,\r\n",
        "                             miniters=1, desc=url.split('/')[-1]) as t:\r\n",
        "        urllib.request.urlretrieve(url, filename=output_path, reporthook=t.update_to)"
      ],
      "execution_count": 1,
      "outputs": []
    },
    {
      "cell_type": "code",
      "metadata": {
        "colab": {
          "base_uri": "https://localhost:8080/"
        },
        "id": "JR5MsjQ8fNaA",
        "outputId": "d8d9ef4b-a4cd-4096-aff1-d8b3aa5f232e"
      },
      "source": [
        "url_gadm_shapefile = \"https://biogeo.ucdavis.edu/data/gadm3.6/shp/gadm36_IDN_shp.zip\"\r\n",
        "zippath = 'gadm36_IDN_shp.zip'\r\n",
        "\r\n",
        "download_url(url_gadm_shapefile, zippath)"
      ],
      "execution_count": 2,
      "outputs": [
        {
          "output_type": "stream",
          "text": [
            "gadm36_IDN_shp.zip: 161MB [01:25, 1.88MB/s]                           \n"
          ],
          "name": "stderr"
        }
      ]
    },
    {
      "cell_type": "code",
      "metadata": {
        "colab": {
          "base_uri": "https://localhost:8080/"
        },
        "id": "YEbeTkMEq4zy",
        "outputId": "1b9d999d-fea7-4370-d3c5-66ee4c33851a"
      },
      "source": [
        "!unzip gadm36_IDN_shp.zip -d ./"
      ],
      "execution_count": 3,
      "outputs": [
        {
          "output_type": "stream",
          "text": [
            "Archive:  gadm36_IDN_shp.zip\n",
            " extracting: ./gadm36_IDN_1.cpg      \n",
            "  inflating: ./gadm36_IDN_1.dbf      \n",
            "  inflating: ./gadm36_IDN_1.prj      \n",
            "  inflating: ./gadm36_IDN_1.shp      \n",
            "  inflating: ./gadm36_IDN_1.shx      \n",
            " extracting: ./gadm36_IDN_2.cpg      \n",
            "  inflating: ./gadm36_IDN_2.dbf      \n",
            "  inflating: ./gadm36_IDN_2.prj      \n",
            "  inflating: ./gadm36_IDN_2.shp      \n",
            "  inflating: ./gadm36_IDN_2.shx      \n",
            " extracting: ./gadm36_IDN_3.cpg      \n",
            "  inflating: ./gadm36_IDN_3.dbf      \n",
            "  inflating: ./gadm36_IDN_3.prj      \n",
            "  inflating: ./gadm36_IDN_3.shp      \n",
            "  inflating: ./gadm36_IDN_3.shx      \n",
            " extracting: ./gadm36_IDN_4.cpg      \n",
            "  inflating: ./gadm36_IDN_4.dbf      \n",
            "  inflating: ./gadm36_IDN_4.prj      \n",
            "  inflating: ./gadm36_IDN_4.shp      \n",
            "  inflating: ./gadm36_IDN_4.shx      \n",
            "  inflating: ./license.txt           \n"
          ],
          "name": "stdout"
        }
      ]
    },
    {
      "cell_type": "markdown",
      "metadata": {
        "id": "s_1VyPXthGV8"
      },
      "source": [
        ""
      ]
    },
    {
      "cell_type": "markdown",
      "metadata": {
        "id": "vXRMQugUf7ee"
      },
      "source": [
        "### Get base data - Rumah Sakit\r\n",
        "\r\n",
        "https://docs.google.com/spreadsheets/d/1WmJEoyHQb6Q4EOfM2jxVUtezitlpvL9WZ-0iD3qEFLA"
      ]
    },
    {
      "cell_type": "code",
      "metadata": {
        "colab": {
          "base_uri": "https://localhost:8080/"
        },
        "id": "1M9QhmzEhSwu",
        "outputId": "6df0dcc2-8e24-4c19-b53d-4c5ac33d665a"
      },
      "source": [
        "import pandas as pd\r\n",
        "\r\n",
        "df_rs = pd.read_csv(\"/content/Data Rumah Sakit Rujukan_COVID19-edit Datin (1) - Rumah Sakit RJ.csv\")\r\n",
        "df_rs.info()"
      ],
      "execution_count": 5,
      "outputs": [
        {
          "output_type": "stream",
          "text": [
            "<class 'pandas.core.frame.DataFrame'>\n",
            "RangeIndex: 132 entries, 0 to 131\n",
            "Data columns (total 31 columns):\n",
            " #   Column                   Non-Null Count  Dtype  \n",
            "---  ------                   --------------  -----  \n",
            " 0   No                       132 non-null    int64  \n",
            " 1   Kode Prov                132 non-null    int64  \n",
            " 2   Kode Kab                 129 non-null    float64\n",
            " 3   Nama kab/kota            132 non-null    object \n",
            " 4   Provinsi                 132 non-null    object \n",
            " 5   Code                     129 non-null    object \n",
            " 6   Kode SDMK                131 non-null    object \n",
            " 7   Nama RS Rujukan          132 non-null    object \n",
            " 8   Jumlah                   132 non-null    int64  \n",
            " 9   Latitude                 132 non-null    float64\n",
            " 10  Longitude                132 non-null    float64\n",
            " 11  Alamat                   132 non-null    object \n",
            " 12  No Telp                  131 non-null    object \n",
            " 13  E-mail                   129 non-null    object \n",
            " 14  Referensi                132 non-null    object \n",
            " 15  dokter umum              131 non-null    float64\n",
            " 16  dokter gigi              131 non-null    float64\n",
            " 17  dr. Sp. Penyakit dalam   131 non-null    float64\n",
            " 18  dr. Sp Anak              131 non-null    float64\n",
            " 19  dr. Sp Bedah             131 non-null    float64\n",
            " 20  dr. Sp. Obsgyn           131 non-null    float64\n",
            " 21  dr. Sp. Radiologi        131 non-null    float64\n",
            " 22  dr. Sp. Anestesi         131 non-null    float64\n",
            " 23  dr. Sp Patologi Klinik   131 non-null    float64\n",
            " 24  dr. Sp Patologi Anatomi  131 non-null    float64\n",
            " 25  dp. Bedah Thoraks        131 non-null    float64\n",
            " 26  dr. Sp. Paru             131 non-null    float64\n",
            " 27  Perawat                  131 non-null    float64\n",
            " 28  Bidan                    131 non-null    float64\n",
            " 29  Farmasi                  131 non-null    float64\n",
            " 30  ATLM                     131 non-null    float64\n",
            "dtypes: float64(19), int64(3), object(9)\n",
            "memory usage: 32.1+ KB\n"
          ],
          "name": "stdout"
        }
      ]
    },
    {
      "cell_type": "code",
      "metadata": {
        "colab": {
          "base_uri": "https://localhost:8080/",
          "height": 404
        },
        "id": "WWC53zxRy2A8",
        "outputId": "b9938506-d209-4f5d-efcb-51122e825497"
      },
      "source": [
        "df_rs[df_rs['Kode Kab'].isna()]"
      ],
      "execution_count": 6,
      "outputs": [
        {
          "output_type": "execute_result",
          "data": {
            "text/html": [
              "<div>\n",
              "<style scoped>\n",
              "    .dataframe tbody tr th:only-of-type {\n",
              "        vertical-align: middle;\n",
              "    }\n",
              "\n",
              "    .dataframe tbody tr th {\n",
              "        vertical-align: top;\n",
              "    }\n",
              "\n",
              "    .dataframe thead th {\n",
              "        text-align: right;\n",
              "    }\n",
              "</style>\n",
              "<table border=\"1\" class=\"dataframe\">\n",
              "  <thead>\n",
              "    <tr style=\"text-align: right;\">\n",
              "      <th></th>\n",
              "      <th>No</th>\n",
              "      <th>Kode Prov</th>\n",
              "      <th>Kode Kab</th>\n",
              "      <th>Nama kab/kota</th>\n",
              "      <th>Provinsi</th>\n",
              "      <th>Code</th>\n",
              "      <th>Kode SDMK</th>\n",
              "      <th>Nama RS Rujukan</th>\n",
              "      <th>Jumlah</th>\n",
              "      <th>Latitude</th>\n",
              "      <th>Longitude</th>\n",
              "      <th>Alamat</th>\n",
              "      <th>No Telp</th>\n",
              "      <th>E-mail</th>\n",
              "      <th>Referensi</th>\n",
              "      <th>dokter umum</th>\n",
              "      <th>dokter gigi</th>\n",
              "      <th>dr. Sp. Penyakit dalam</th>\n",
              "      <th>dr. Sp Anak</th>\n",
              "      <th>dr. Sp Bedah</th>\n",
              "      <th>dr. Sp. Obsgyn</th>\n",
              "      <th>dr. Sp. Radiologi</th>\n",
              "      <th>dr. Sp. Anestesi</th>\n",
              "      <th>dr. Sp Patologi Klinik</th>\n",
              "      <th>dr. Sp Patologi Anatomi</th>\n",
              "      <th>dp. Bedah Thoraks</th>\n",
              "      <th>dr. Sp. Paru</th>\n",
              "      <th>Perawat</th>\n",
              "      <th>Bidan</th>\n",
              "      <th>Farmasi</th>\n",
              "      <th>ATLM</th>\n",
              "    </tr>\n",
              "  </thead>\n",
              "  <tbody>\n",
              "    <tr>\n",
              "      <th>13</th>\n",
              "      <td>14</td>\n",
              "      <td>21</td>\n",
              "      <td>NaN</td>\n",
              "      <td>Kota Batam</td>\n",
              "      <td>KEPULAUAN RIAU</td>\n",
              "      <td>NaN</td>\n",
              "      <td>R2071034</td>\n",
              "      <td>RSBP Batam</td>\n",
              "      <td>1</td>\n",
              "      <td>1.129668</td>\n",
              "      <td>103.931488</td>\n",
              "      <td>Jl. Dr. Cipto Mangunkusumo No.1, Sekupang,Batam</td>\n",
              "      <td>(0778-322046, 322121)</td>\n",
              "      <td>rsbp.official@gmail.com</td>\n",
              "      <td>KEPUTUSAN MENTERI KESEHATAN REPUBLIK INDONESIA...</td>\n",
              "      <td>28.0</td>\n",
              "      <td>5.0</td>\n",
              "      <td>7.0</td>\n",
              "      <td>2.0</td>\n",
              "      <td>4.0</td>\n",
              "      <td>8.0</td>\n",
              "      <td>4.0</td>\n",
              "      <td>5.0</td>\n",
              "      <td>2.0</td>\n",
              "      <td>1.0</td>\n",
              "      <td>1.0</td>\n",
              "      <td>2.0</td>\n",
              "      <td>159.0</td>\n",
              "      <td>33.0</td>\n",
              "      <td>39.0</td>\n",
              "      <td>12.0</td>\n",
              "    </tr>\n",
              "    <tr>\n",
              "      <th>37</th>\n",
              "      <td>38</td>\n",
              "      <td>31</td>\n",
              "      <td>NaN</td>\n",
              "      <td>Kota Jakarta TImur</td>\n",
              "      <td>DKI JAKARTA</td>\n",
              "      <td>NaN</td>\n",
              "      <td>R3172072</td>\n",
              "      <td>RS Umum Bhayangkara Tk. I R.Said Sukanto</td>\n",
              "      <td>1</td>\n",
              "      <td>-6.269255</td>\n",
              "      <td>106.870708</td>\n",
              "      <td>Jl. Raya Bogor Kramat Jati, Jakarta Timur</td>\n",
              "      <td>(021-8093288)</td>\n",
              "      <td>subbagren.tk1@gmail.com</td>\n",
              "      <td>KEPUTUSAN MENTERI KESEHATAN REPUBLIK INDONESIA...</td>\n",
              "      <td>50.0</td>\n",
              "      <td>7.0</td>\n",
              "      <td>9.0</td>\n",
              "      <td>4.0</td>\n",
              "      <td>7.0</td>\n",
              "      <td>6.0</td>\n",
              "      <td>4.0</td>\n",
              "      <td>7.0</td>\n",
              "      <td>1.0</td>\n",
              "      <td>2.0</td>\n",
              "      <td>2.0</td>\n",
              "      <td>3.0</td>\n",
              "      <td>924.0</td>\n",
              "      <td>70.0</td>\n",
              "      <td>125.0</td>\n",
              "      <td>62.0</td>\n",
              "    </tr>\n",
              "    <tr>\n",
              "      <th>124</th>\n",
              "      <td>125</td>\n",
              "      <td>81</td>\n",
              "      <td>NaN</td>\n",
              "      <td>Kota Ambon</td>\n",
              "      <td>MALUKU</td>\n",
              "      <td>NaN</td>\n",
              "      <td>NaN</td>\n",
              "      <td>RSUP dr J.\\nLeimena</td>\n",
              "      <td>1</td>\n",
              "      <td>-3.661386</td>\n",
              "      <td>128.177785</td>\n",
              "      <td>Desa Rumah 3 Kec. Teluk Ambon</td>\n",
              "      <td>NaN</td>\n",
              "      <td>NaN</td>\n",
              "      <td>KEPUTUSAN MENTERI KESEHATAN REPUBLIK INDONESIA...</td>\n",
              "      <td>NaN</td>\n",
              "      <td>NaN</td>\n",
              "      <td>NaN</td>\n",
              "      <td>NaN</td>\n",
              "      <td>NaN</td>\n",
              "      <td>NaN</td>\n",
              "      <td>NaN</td>\n",
              "      <td>NaN</td>\n",
              "      <td>NaN</td>\n",
              "      <td>NaN</td>\n",
              "      <td>NaN</td>\n",
              "      <td>NaN</td>\n",
              "      <td>NaN</td>\n",
              "      <td>NaN</td>\n",
              "      <td>NaN</td>\n",
              "      <td>NaN</td>\n",
              "    </tr>\n",
              "  </tbody>\n",
              "</table>\n",
              "</div>"
            ],
            "text/plain": [
              "      No  Kode Prov  Kode Kab  ... Bidan Farmasi  ATLM\n",
              "13    14         21       NaN  ...  33.0    39.0  12.0\n",
              "37    38         31       NaN  ...  70.0   125.0  62.0\n",
              "124  125         81       NaN  ...   NaN     NaN   NaN\n",
              "\n",
              "[3 rows x 31 columns]"
            ]
          },
          "metadata": {
            "tags": []
          },
          "execution_count": 6
        }
      ]
    },
    {
      "cell_type": "markdown",
      "metadata": {
        "id": "NsK1548_ffHY"
      },
      "source": [
        "### Shapely\r\n",
        "\r\n",
        "Model python yang meungkinkan kita bekerja dengan shapefile (salah satu jenis data geospasial)\r\n"
      ]
    },
    {
      "cell_type": "code",
      "metadata": {
        "id": "ruyIiQiFrIWR",
        "colab": {
          "base_uri": "https://localhost:8080/"
        },
        "outputId": "28311514-8c55-479a-8543-c3b6f3fbae1c"
      },
      "source": [
        "!pip install shapely\r\n",
        "!pip install geopandas"
      ],
      "execution_count": 7,
      "outputs": [
        {
          "output_type": "stream",
          "text": [
            "Requirement already satisfied: shapely in /usr/local/lib/python3.6/dist-packages (1.7.1)\n",
            "Collecting geopandas\n",
            "\u001b[?25l  Downloading https://files.pythonhosted.org/packages/2a/9f/e8a440a993e024c0d3d4e5c7d3346367c50c9a1a3d735caf5ee3bde0aab1/geopandas-0.8.2-py2.py3-none-any.whl (962kB)\n",
            "\u001b[K     |████████████████████████████████| 972kB 5.1MB/s \n",
            "\u001b[?25hCollecting fiona\n",
            "\u001b[?25l  Downloading https://files.pythonhosted.org/packages/37/94/4910fd55246c1d963727b03885ead6ef1cd3748a465f7b0239ab25dfc9a3/Fiona-1.8.18-cp36-cp36m-manylinux1_x86_64.whl (14.8MB)\n",
            "\u001b[K     |████████████████████████████████| 14.8MB 334kB/s \n",
            "\u001b[?25hCollecting pyproj>=2.2.0\n",
            "\u001b[?25l  Downloading https://files.pythonhosted.org/packages/e4/ab/280e80a67cfc109d15428c0ec56391fc03a65857b7727cf4e6e6f99a4204/pyproj-3.0.0.post1-cp36-cp36m-manylinux2010_x86_64.whl (6.4MB)\n",
            "\u001b[K     |████████████████████████████████| 6.5MB 30.7MB/s \n",
            "\u001b[?25hRequirement already satisfied: shapely in /usr/local/lib/python3.6/dist-packages (from geopandas) (1.7.1)\n",
            "Requirement already satisfied: pandas>=0.23.0 in /usr/local/lib/python3.6/dist-packages (from geopandas) (1.1.5)\n",
            "Collecting click-plugins>=1.0\n",
            "  Downloading https://files.pythonhosted.org/packages/e9/da/824b92d9942f4e472702488857914bdd50f73021efea15b4cad9aca8ecef/click_plugins-1.1.1-py2.py3-none-any.whl\n",
            "Collecting cligj>=0.5\n",
            "  Downloading https://files.pythonhosted.org/packages/42/1e/947eadf10d6804bf276eb8a038bd5307996dceaaa41cfd21b7a15ec62f5d/cligj-0.7.1-py3-none-any.whl\n",
            "Collecting munch\n",
            "  Downloading https://files.pythonhosted.org/packages/cc/ab/85d8da5c9a45e072301beb37ad7f833cd344e04c817d97e0cc75681d248f/munch-2.5.0-py2.py3-none-any.whl\n",
            "Requirement already satisfied: six>=1.7 in /usr/local/lib/python3.6/dist-packages (from fiona->geopandas) (1.15.0)\n",
            "Requirement already satisfied: certifi in /usr/local/lib/python3.6/dist-packages (from fiona->geopandas) (2020.12.5)\n",
            "Requirement already satisfied: click<8,>=4.0 in /usr/local/lib/python3.6/dist-packages (from fiona->geopandas) (7.1.2)\n",
            "Requirement already satisfied: attrs>=17 in /usr/local/lib/python3.6/dist-packages (from fiona->geopandas) (20.3.0)\n",
            "Requirement already satisfied: numpy>=1.15.4 in /usr/local/lib/python3.6/dist-packages (from pandas>=0.23.0->geopandas) (1.19.5)\n",
            "Requirement already satisfied: pytz>=2017.2 in /usr/local/lib/python3.6/dist-packages (from pandas>=0.23.0->geopandas) (2018.9)\n",
            "Requirement already satisfied: python-dateutil>=2.7.3 in /usr/local/lib/python3.6/dist-packages (from pandas>=0.23.0->geopandas) (2.8.1)\n",
            "Installing collected packages: click-plugins, cligj, munch, fiona, pyproj, geopandas\n",
            "Successfully installed click-plugins-1.1.1 cligj-0.7.1 fiona-1.8.18 geopandas-0.8.2 munch-2.5.0 pyproj-3.0.0.post1\n"
          ],
          "name": "stdout"
        }
      ]
    },
    {
      "cell_type": "code",
      "metadata": {
        "colab": {
          "base_uri": "https://localhost:8080/"
        },
        "id": "DHzYA9zuqpnX",
        "outputId": "b5839f4b-f60e-46c3-9a4d-1a079b8b94b5"
      },
      "source": [
        "import geopandas as gpd\r\n",
        "from shapely.geometry import Point\r\n",
        "from shapely.geometry.polygon import Polygon\r\n",
        "\r\n",
        "df_geo = gpd.read_file('gadm36_IDN_2.shp') # IDN_2 adalah data geospasial level City, 1-Provinsi 2-KotaKab 3-Kecamatan\r\n",
        "df_geo.info()"
      ],
      "execution_count": 8,
      "outputs": [
        {
          "output_type": "stream",
          "text": [
            "<class 'geopandas.geodataframe.GeoDataFrame'>\n",
            "RangeIndex: 502 entries, 0 to 501\n",
            "Data columns (total 14 columns):\n",
            " #   Column     Non-Null Count  Dtype   \n",
            "---  ------     --------------  -----   \n",
            " 0   GID_0      502 non-null    object  \n",
            " 1   NAME_0     502 non-null    object  \n",
            " 2   GID_1      502 non-null    object  \n",
            " 3   NAME_1     502 non-null    object  \n",
            " 4   NL_NAME_1  0 non-null      object  \n",
            " 5   GID_2      502 non-null    object  \n",
            " 6   NAME_2     502 non-null    object  \n",
            " 7   VARNAME_2  0 non-null      object  \n",
            " 8   NL_NAME_2  0 non-null      object  \n",
            " 9   TYPE_2     502 non-null    object  \n",
            " 10  ENGTYPE_2  502 non-null    object  \n",
            " 11  CC_2       501 non-null    object  \n",
            " 12  HASC_2     498 non-null    object  \n",
            " 13  geometry   502 non-null    geometry\n",
            "dtypes: geometry(1), object(13)\n",
            "memory usage: 55.0+ KB\n"
          ],
          "name": "stdout"
        }
      ]
    },
    {
      "cell_type": "code",
      "metadata": {
        "id": "XNxEbhS0rqzO"
      },
      "source": [
        "mpolygon = df_geo.loc[0,'geometry']\r\n",
        "point = Point(95.452811, 5.518212) #longitude, latitude within BandaAceh"
      ],
      "execution_count": 9,
      "outputs": []
    },
    {
      "cell_type": "code",
      "metadata": {
        "colab": {
          "base_uri": "https://localhost:8080/"
        },
        "id": "OtrKOOuUclq_",
        "outputId": "f5238426-6e63-4697-9622-fec820729025"
      },
      "source": [
        "print(mpolygon.contains(point)) # check if polygon contains point\r\n",
        "print(point.within(mpolygon)) # check if a point is in the polygon "
      ],
      "execution_count": 10,
      "outputs": [
        {
          "output_type": "stream",
          "text": [
            "False\n",
            "False\n"
          ],
          "name": "stdout"
        }
      ]
    },
    {
      "cell_type": "code",
      "metadata": {
        "colab": {
          "base_uri": "https://localhost:8080/",
          "height": 589
        },
        "id": "Z7j6GQhVvDru",
        "outputId": "94769afa-7770-4ff3-f7ce-452d430cb220"
      },
      "source": [
        "df_geo"
      ],
      "execution_count": 11,
      "outputs": [
        {
          "output_type": "execute_result",
          "data": {
            "text/html": [
              "<div>\n",
              "<style scoped>\n",
              "    .dataframe tbody tr th:only-of-type {\n",
              "        vertical-align: middle;\n",
              "    }\n",
              "\n",
              "    .dataframe tbody tr th {\n",
              "        vertical-align: top;\n",
              "    }\n",
              "\n",
              "    .dataframe thead th {\n",
              "        text-align: right;\n",
              "    }\n",
              "</style>\n",
              "<table border=\"1\" class=\"dataframe\">\n",
              "  <thead>\n",
              "    <tr style=\"text-align: right;\">\n",
              "      <th></th>\n",
              "      <th>GID_0</th>\n",
              "      <th>NAME_0</th>\n",
              "      <th>GID_1</th>\n",
              "      <th>NAME_1</th>\n",
              "      <th>NL_NAME_1</th>\n",
              "      <th>GID_2</th>\n",
              "      <th>NAME_2</th>\n",
              "      <th>VARNAME_2</th>\n",
              "      <th>NL_NAME_2</th>\n",
              "      <th>TYPE_2</th>\n",
              "      <th>ENGTYPE_2</th>\n",
              "      <th>CC_2</th>\n",
              "      <th>HASC_2</th>\n",
              "      <th>geometry</th>\n",
              "    </tr>\n",
              "  </thead>\n",
              "  <tbody>\n",
              "    <tr>\n",
              "      <th>0</th>\n",
              "      <td>IDN</td>\n",
              "      <td>Indonesia</td>\n",
              "      <td>IDN.1_1</td>\n",
              "      <td>Aceh</td>\n",
              "      <td>None</td>\n",
              "      <td>IDN.1.2_1</td>\n",
              "      <td>Aceh Barat</td>\n",
              "      <td>None</td>\n",
              "      <td>None</td>\n",
              "      <td>Kabupaten</td>\n",
              "      <td>Regency</td>\n",
              "      <td>1107</td>\n",
              "      <td>ID.AC.AB</td>\n",
              "      <td>POLYGON ((96.13205 4.13408, 96.13216 4.13404, ...</td>\n",
              "    </tr>\n",
              "    <tr>\n",
              "      <th>1</th>\n",
              "      <td>IDN</td>\n",
              "      <td>Indonesia</td>\n",
              "      <td>IDN.1_1</td>\n",
              "      <td>Aceh</td>\n",
              "      <td>None</td>\n",
              "      <td>IDN.1.1_1</td>\n",
              "      <td>Aceh Barat Daya</td>\n",
              "      <td>None</td>\n",
              "      <td>None</td>\n",
              "      <td>Kabupaten</td>\n",
              "      <td>Regency</td>\n",
              "      <td>1112</td>\n",
              "      <td>ID.AC.AD</td>\n",
              "      <td>MULTIPOLYGON (((96.80518 3.72169, 96.80582 3.7...</td>\n",
              "    </tr>\n",
              "    <tr>\n",
              "      <th>2</th>\n",
              "      <td>IDN</td>\n",
              "      <td>Indonesia</td>\n",
              "      <td>IDN.1_1</td>\n",
              "      <td>Aceh</td>\n",
              "      <td>None</td>\n",
              "      <td>IDN.1.3_1</td>\n",
              "      <td>Aceh Besar</td>\n",
              "      <td>None</td>\n",
              "      <td>None</td>\n",
              "      <td>Kabupaten</td>\n",
              "      <td>Regency</td>\n",
              "      <td>1108</td>\n",
              "      <td>ID.AC.AR</td>\n",
              "      <td>MULTIPOLYGON (((95.20544 5.28072, 95.20563 5.2...</td>\n",
              "    </tr>\n",
              "    <tr>\n",
              "      <th>3</th>\n",
              "      <td>IDN</td>\n",
              "      <td>Indonesia</td>\n",
              "      <td>IDN.1_1</td>\n",
              "      <td>Aceh</td>\n",
              "      <td>None</td>\n",
              "      <td>IDN.1.4_1</td>\n",
              "      <td>Aceh Jaya</td>\n",
              "      <td>None</td>\n",
              "      <td>None</td>\n",
              "      <td>Kabupaten</td>\n",
              "      <td>Regency</td>\n",
              "      <td>1116</td>\n",
              "      <td>ID.AC.AJ</td>\n",
              "      <td>MULTIPOLYGON (((95.87688 4.36750, 95.87684 4.3...</td>\n",
              "    </tr>\n",
              "    <tr>\n",
              "      <th>4</th>\n",
              "      <td>IDN</td>\n",
              "      <td>Indonesia</td>\n",
              "      <td>IDN.1_1</td>\n",
              "      <td>Aceh</td>\n",
              "      <td>None</td>\n",
              "      <td>IDN.1.5_1</td>\n",
              "      <td>Aceh Selatan</td>\n",
              "      <td>None</td>\n",
              "      <td>None</td>\n",
              "      <td>Kabupaten</td>\n",
              "      <td>Regency</td>\n",
              "      <td>1103</td>\n",
              "      <td>ID.AC.AS</td>\n",
              "      <td>MULTIPOLYGON (((97.59461 2.80777, 97.59365 2.8...</td>\n",
              "    </tr>\n",
              "    <tr>\n",
              "      <th>...</th>\n",
              "      <td>...</td>\n",
              "      <td>...</td>\n",
              "      <td>...</td>\n",
              "      <td>...</td>\n",
              "      <td>...</td>\n",
              "      <td>...</td>\n",
              "      <td>...</td>\n",
              "      <td>...</td>\n",
              "      <td>...</td>\n",
              "      <td>...</td>\n",
              "      <td>...</td>\n",
              "      <td>...</td>\n",
              "      <td>...</td>\n",
              "      <td>...</td>\n",
              "    </tr>\n",
              "    <tr>\n",
              "      <th>497</th>\n",
              "      <td>IDN</td>\n",
              "      <td>Indonesia</td>\n",
              "      <td>IDN.33_1</td>\n",
              "      <td>Yogyakarta</td>\n",
              "      <td>None</td>\n",
              "      <td>IDN.33.1_1</td>\n",
              "      <td>Bantul</td>\n",
              "      <td>None</td>\n",
              "      <td>None</td>\n",
              "      <td>Kabupaten</td>\n",
              "      <td>Regency</td>\n",
              "      <td>3402</td>\n",
              "      <td>ID.YO.BA</td>\n",
              "      <td>POLYGON ((110.32923 -8.00613, 110.32927 -8.006...</td>\n",
              "    </tr>\n",
              "    <tr>\n",
              "      <th>498</th>\n",
              "      <td>IDN</td>\n",
              "      <td>Indonesia</td>\n",
              "      <td>IDN.33_1</td>\n",
              "      <td>Yogyakarta</td>\n",
              "      <td>None</td>\n",
              "      <td>IDN.33.2_1</td>\n",
              "      <td>Gunung Kidul</td>\n",
              "      <td>None</td>\n",
              "      <td>None</td>\n",
              "      <td>Kabupaten</td>\n",
              "      <td>Regency</td>\n",
              "      <td>3403</td>\n",
              "      <td>ID.YO.GK</td>\n",
              "      <td>MULTIPOLYGON (((110.66244 -8.17778, 110.66234 ...</td>\n",
              "    </tr>\n",
              "    <tr>\n",
              "      <th>499</th>\n",
              "      <td>IDN</td>\n",
              "      <td>Indonesia</td>\n",
              "      <td>IDN.33_1</td>\n",
              "      <td>Yogyakarta</td>\n",
              "      <td>None</td>\n",
              "      <td>IDN.33.3_1</td>\n",
              "      <td>Kota Yogyakarta</td>\n",
              "      <td>None</td>\n",
              "      <td>None</td>\n",
              "      <td>Kota</td>\n",
              "      <td>City</td>\n",
              "      <td>3471</td>\n",
              "      <td>ID.YO.YO</td>\n",
              "      <td>POLYGON ((110.40143 -7.81923, 110.40170 -7.819...</td>\n",
              "    </tr>\n",
              "    <tr>\n",
              "      <th>500</th>\n",
              "      <td>IDN</td>\n",
              "      <td>Indonesia</td>\n",
              "      <td>IDN.33_1</td>\n",
              "      <td>Yogyakarta</td>\n",
              "      <td>None</td>\n",
              "      <td>IDN.33.4_1</td>\n",
              "      <td>Kulon Progo</td>\n",
              "      <td>None</td>\n",
              "      <td>None</td>\n",
              "      <td>Kabupaten</td>\n",
              "      <td>Regency</td>\n",
              "      <td>3401</td>\n",
              "      <td>ID.YO.KP</td>\n",
              "      <td>POLYGON ((110.20530 -7.98388, 110.20493 -7.984...</td>\n",
              "    </tr>\n",
              "    <tr>\n",
              "      <th>501</th>\n",
              "      <td>IDN</td>\n",
              "      <td>Indonesia</td>\n",
              "      <td>IDN.33_1</td>\n",
              "      <td>Yogyakarta</td>\n",
              "      <td>None</td>\n",
              "      <td>IDN.33.5_1</td>\n",
              "      <td>Sleman</td>\n",
              "      <td>None</td>\n",
              "      <td>None</td>\n",
              "      <td>Kabupaten</td>\n",
              "      <td>Regency</td>\n",
              "      <td>3404</td>\n",
              "      <td>ID.YO.SL</td>\n",
              "      <td>POLYGON ((110.51952 -7.83097, 110.51929 -7.831...</td>\n",
              "    </tr>\n",
              "  </tbody>\n",
              "</table>\n",
              "<p>502 rows × 14 columns</p>\n",
              "</div>"
            ],
            "text/plain": [
              "    GID_0  ...                                           geometry\n",
              "0     IDN  ...  POLYGON ((96.13205 4.13408, 96.13216 4.13404, ...\n",
              "1     IDN  ...  MULTIPOLYGON (((96.80518 3.72169, 96.80582 3.7...\n",
              "2     IDN  ...  MULTIPOLYGON (((95.20544 5.28072, 95.20563 5.2...\n",
              "3     IDN  ...  MULTIPOLYGON (((95.87688 4.36750, 95.87684 4.3...\n",
              "4     IDN  ...  MULTIPOLYGON (((97.59461 2.80777, 97.59365 2.8...\n",
              "..    ...  ...                                                ...\n",
              "497   IDN  ...  POLYGON ((110.32923 -8.00613, 110.32927 -8.006...\n",
              "498   IDN  ...  MULTIPOLYGON (((110.66244 -8.17778, 110.66234 ...\n",
              "499   IDN  ...  POLYGON ((110.40143 -7.81923, 110.40170 -7.819...\n",
              "500   IDN  ...  POLYGON ((110.20530 -7.98388, 110.20493 -7.984...\n",
              "501   IDN  ...  POLYGON ((110.51952 -7.83097, 110.51929 -7.831...\n",
              "\n",
              "[502 rows x 14 columns]"
            ]
          },
          "metadata": {
            "tags": []
          },
          "execution_count": 11
        }
      ]
    },
    {
      "cell_type": "code",
      "metadata": {
        "colab": {
          "base_uri": "https://localhost:8080/",
          "height": 97
        },
        "id": "EA7uhu5kdvFS",
        "outputId": "db28d325-c1c0-4013-e9b0-950667f4c73a"
      },
      "source": [
        "df_geo[df_geo['CC_2'].isna()]"
      ],
      "execution_count": 12,
      "outputs": [
        {
          "output_type": "execute_result",
          "data": {
            "text/html": [
              "<div>\n",
              "<style scoped>\n",
              "    .dataframe tbody tr th:only-of-type {\n",
              "        vertical-align: middle;\n",
              "    }\n",
              "\n",
              "    .dataframe tbody tr th {\n",
              "        vertical-align: top;\n",
              "    }\n",
              "\n",
              "    .dataframe thead th {\n",
              "        text-align: right;\n",
              "    }\n",
              "</style>\n",
              "<table border=\"1\" class=\"dataframe\">\n",
              "  <thead>\n",
              "    <tr style=\"text-align: right;\">\n",
              "      <th></th>\n",
              "      <th>GID_0</th>\n",
              "      <th>NAME_0</th>\n",
              "      <th>GID_1</th>\n",
              "      <th>NAME_1</th>\n",
              "      <th>NL_NAME_1</th>\n",
              "      <th>GID_2</th>\n",
              "      <th>NAME_2</th>\n",
              "      <th>VARNAME_2</th>\n",
              "      <th>NL_NAME_2</th>\n",
              "      <th>TYPE_2</th>\n",
              "      <th>ENGTYPE_2</th>\n",
              "      <th>CC_2</th>\n",
              "      <th>HASC_2</th>\n",
              "      <th>geometry</th>\n",
              "    </tr>\n",
              "  </thead>\n",
              "  <tbody>\n",
              "    <tr>\n",
              "      <th>476</th>\n",
              "      <td>IDN</td>\n",
              "      <td>Indonesia</td>\n",
              "      <td>IDN.32_1</td>\n",
              "      <td>Sumatera Utara</td>\n",
              "      <td>None</td>\n",
              "      <td>IDN.32.14_1</td>\n",
              "      <td>Lake Toba</td>\n",
              "      <td>None</td>\n",
              "      <td>None</td>\n",
              "      <td>Water Body</td>\n",
              "      <td>Water Body</td>\n",
              "      <td>None</td>\n",
              "      <td>None</td>\n",
              "      <td>POLYGON ((99.12016 2.42754, 99.12036 2.42942, ...</td>\n",
              "    </tr>\n",
              "  </tbody>\n",
              "</table>\n",
              "</div>"
            ],
            "text/plain": [
              "    GID_0     NAME_0  ... HASC_2                                           geometry\n",
              "476   IDN  Indonesia  ...   None  POLYGON ((99.12016 2.42754, 99.12036 2.42942, ...\n",
              "\n",
              "[1 rows x 14 columns]"
            ]
          },
          "metadata": {
            "tags": []
          },
          "execution_count": 12
        }
      ]
    },
    {
      "cell_type": "code",
      "metadata": {
        "id": "VVcJGIfKeCTU"
      },
      "source": [
        "# drop sample karena bukan salah satu Kabupaten/Kota\r\n",
        "df_geo = df_geo.drop(476, axis=0)"
      ],
      "execution_count": 13,
      "outputs": []
    },
    {
      "cell_type": "code",
      "metadata": {
        "colab": {
          "base_uri": "https://localhost:8080/",
          "height": 121
        },
        "id": "EW8yqerzc49L",
        "outputId": "985eac22-68f7-423b-fa97-b97ff3a18d5d"
      },
      "source": [
        "df_geo.loc[3,'geometry']"
      ],
      "execution_count": 14,
      "outputs": [
        {
          "output_type": "execute_result",
          "data": {
            "text/plain": [
              "<shapely.geometry.multipolygon.MultiPolygon at 0x7fd922d73fd0>"
            ],
            "image/svg+xml": "<svg xmlns=\"http://www.w3.org/2000/svg\" xmlns:xlink=\"http://www.w3.org/1999/xlink\" width=\"100.0\" height=\"100.0\" viewBox=\"95.245931532 4.331958672 0.8408929759999921 0.9577185659999996\" preserveAspectRatio=\"xMinYMin meet\"><g transform=\"matrix(1,0,0,-1,0,9.621635909999998)\"><g><path fill-rule=\"evenodd\" fill=\"#66cc99\" stroke=\"#555555\" stroke-width=\"0.01915437131999999\" opacity=\"0.6\" d=\"M 95.87687683,4.36749554 L 95.87683868,4.36742973 L 95.87673187,4.36754465 L 95.87687683,4.36749554 z\" /><path fill-rule=\"evenodd\" fill=\"#66cc99\" stroke=\"#555555\" stroke-width=\"0.01915437131999999\" opacity=\"0.6\" d=\"M 95.55989075,4.64495182 L 95.55913544,4.64436769 L 95.55879974,4.64478827 L 95.55821228,4.64462233 L 95.55780029,4.6451273 L 95.55754852,4.64546347 L 95.55712891,4.64563274 L 95.55646515,4.6458869 L 95.55604553,4.64647579 L 95.55588531,4.64714718 L 95.55571747,4.64781904 L 95.55547333,4.64907789 L 95.55580902,4.65067005 L 95.55664825,4.65175772 L 95.55891418,4.65275574 L 95.55899048,4.65049076 L 95.5591507,4.64898062 L 95.56056976,4.64771748 L 95.56072235,4.64561987 L 95.55989075,4.64495182 z\" /><path fill-rule=\"evenodd\" fill=\"#66cc99\" stroke=\"#555555\" stroke-width=\"0.01915437131999999\" opacity=\"0.6\" d=\"M 95.48999786,4.7256918 L 95.48999786,4.72460938 L 95.48999023,4.72441244 L 95.49008942,4.72333002 L 95.48910522,4.72244787 L 95.48499298,4.7236433 L 95.48292542,4.72138786 L 95.48106384,4.72208309 L 95.4822464,4.7250309 L 95.48391724,4.72600842 L 95.48519135,4.72501993 L 95.48666382,4.72570372 L 95.48754883,4.72609425 L 95.48813629,4.72648525 L 95.48989868,4.72628212 L 95.48999786,4.7256918 z\" /><path fill-rule=\"evenodd\" fill=\"#66cc99\" stroke=\"#555555\" stroke-width=\"0.01915437131999999\" opacity=\"0.6\" d=\"M 95.50528717,4.68811178 L 95.50663757,4.68961954 L 95.5066452,4.69109583 L 95.50850677,4.69089222 L 95.51076508,4.69137621 L 95.51213074,4.6887145 L 95.51172638,4.6866498 L 95.50973511,4.68619299 L 95.50937653,4.68744516 L 95.50928497,4.6882329 L 95.50839996,4.68823576 L 95.50791168,4.68882799 L 95.50732422,4.68814135 L 95.50722504,4.68873215 L 95.50673676,4.68863535 L 95.50528717,4.68811178 z\" /><path fill-rule=\"evenodd\" fill=\"#66cc99\" stroke=\"#555555\" stroke-width=\"0.01915437131999999\" opacity=\"0.6\" d=\"M 95.57622528,4.61886835 L 95.57524109,4.61881399 L 95.57472229,4.6188159 L 95.57350922,4.61905241 L 95.57292938,4.61946058 L 95.57252502,4.61981058 L 95.57258606,4.62027454 L 95.57282257,4.6207962 L 95.57316589,4.62102699 L 95.57311249,4.62160778 L 95.57322693,4.62236166 L 95.57323456,4.62329054 L 95.5743866,4.62287998 L 95.57542419,4.62223768 L 95.5766983,4.62200117 L 95.57715607,4.62089634 L 95.57622528,4.61886835 z\" /><path fill-rule=\"evenodd\" fill=\"#66cc99\" stroke=\"#555555\" stroke-width=\"0.01915437131999999\" opacity=\"0.6\" d=\"M 95.58431244,4.6149497 L 95.58378601,4.61442947 L 95.58338165,4.6144309 L 95.58326721,4.61425734 L 95.58292389,4.61472273 L 95.58263397,4.61501408 L 95.58222961,4.61507368 L 95.58182526,4.61507511 L 95.5819397,4.6163516 L 95.58322144,4.61907482 L 95.58415222,4.61849117 L 95.58437347,4.61686516 L 95.5852356,4.61610746 L 95.58558655,4.61546755 L 95.58431244,4.6149497 z\" /><path fill-rule=\"evenodd\" fill=\"#66cc99\" stroke=\"#555555\" stroke-width=\"0.01915437131999999\" opacity=\"0.6\" d=\"M 95.56598663,4.64400721 L 95.56539917,4.64392519 L 95.56481934,4.64392757 L 95.56381226,4.64393091 L 95.56347656,4.64451933 L 95.56340027,4.64493895 L 95.56356812,4.64636421 L 95.56433105,4.64912939 L 95.56575012,4.64853716 L 95.56666565,4.64710808 L 95.56716156,4.64601564 L 95.56682587,4.6447587 L 95.56598663,4.64400721 z\" /><path fill-rule=\"evenodd\" fill=\"#66cc99\" stroke=\"#555555\" stroke-width=\"0.01915437131999999\" opacity=\"0.6\" d=\"M 95.56993866,4.65145731 L 95.56910706,4.65137672 L 95.56851959,4.65154648 L 95.56797791,4.65168333 L 95.56728363,4.65566111 L 95.56963348,4.65774918 L 95.57380676,4.65597248 L 95.57379913,4.65395975 L 95.57178497,4.65296078 L 95.57102966,4.65204048 L 95.56993866,4.65145731 z\" /><path fill-rule=\"evenodd\" fill=\"#66cc99\" stroke=\"#555555\" stroke-width=\"0.01915437131999999\" opacity=\"0.6\" d=\"M 95.36933899,4.87678623 L 95.36956787,4.87687016 L 95.37017822,4.8776865 L 95.3707962,4.87788916 L 95.37223053,4.87829447 L 95.37407684,4.87808561 L 95.37631989,4.87746716 L 95.37730408,4.87713671 L 95.37754822,4.87705517 L 95.38001251,4.8774581 L 95.38144684,4.87806797 L 95.38328552,4.87826777 L 95.38513184,4.87805891 L 95.38860321,4.8768239 L 95.39003754,4.8753891 L 95.39064026,4.87334347 L 95.390625,4.86986828 L 95.39021301,4.86823368 L 95.38938904,4.86700916 L 95.38794708,4.86558151 L 95.38650513,4.86374521 L 95.38568115,4.86231661 L 95.38506317,4.86068249 L 95.38382721,4.85864115 L 95.38320923,4.85823393 L 95.38239288,4.85803175 L 95.38156891,4.85864687 L 95.38076019,4.85967112 L 95.37994385,4.8604908 L 95.37871552,4.86069822 L 95.37605286,4.8607049 L 95.37442017,4.86152649 L 95.37237549,4.86337137 L 95.37054443,4.86541986 L 95.36972809,4.86726189 L 95.36810303,4.87053633 L 95.36749268,4.87135553 L 95.36688232,4.87176609 L 95.36627197,4.87238073 L 95.36586761,4.87319946 L 95.36566925,4.87483549 L 95.36587524,4.87544823 L 95.36647797,4.87604904 L 95.36667633,4.87608576 L 95.36791992,4.87626076 L 95.36824799,4.87637997 L 95.36849213,4.87647104 L 95.36933899,4.87678623 z\" /><path fill-rule=\"evenodd\" fill=\"#66cc99\" stroke=\"#555555\" stroke-width=\"0.01915437131999999\" opacity=\"0.6\" d=\"M 95.29304504,5.12576485 L 95.2923584,5.12568092 L 95.2910614,5.125772 L 95.28984833,5.12586308 L 95.28855133,5.12630081 L 95.28794861,5.12664986 L 95.28786469,5.12725639 L 95.28787231,5.12890291 L 95.28795624,5.12933588 L 95.28839111,5.12976742 L 95.28900146,5.13002539 L 95.28952026,5.13011026 L 95.28994751,5.13019514 L 95.29055786,5.13001966 L 95.29090118,5.12975883 L 95.29116058,5.12941122 L 95.29150391,5.12914991 L 95.29193878,5.1290617 L 95.29270935,5.12862587 L 95.29314423,5.12845087 L 95.29348755,5.12827635 L 95.29366302,5.1281023 L 95.29374695,5.12784195 L 95.29392242,5.12749481 L 95.29383087,5.12723541 L 95.29383087,5.12680197 L 95.29373932,5.12654257 L 95.29347992,5.12611008 L 95.29304504,5.12576485 z\" /><path fill-rule=\"evenodd\" fill=\"#66cc99\" stroke=\"#555555\" stroke-width=\"0.01915437131999999\" opacity=\"0.6\" d=\"M 95.45127869,4.77302265 L 95.45127106,4.77220488 L 95.45188904,4.77199888 L 95.45291138,4.77117872 L 95.45290375,4.77056551 L 95.45269775,4.77015734 L 95.45188141,4.76995516 L 95.45065308,4.7699585 L 95.44799042,4.77078295 L 95.44615173,4.77201414 L 95.44512939,4.77242565 L 95.44390106,4.7722249 L 95.44267273,4.77222776 L 95.44185638,4.77284336 L 95.44145203,4.77386665 L 95.44145203,4.77509308 L 95.44187164,4.77590942 L 95.44268799,4.77631617 L 95.44535065,4.77651358 L 95.44760895,4.7769165 L 95.44863129,4.77711821 L 95.44944763,4.77732038 L 95.45088196,4.77711201 L 95.45149231,4.77649689 L 95.4516983,4.7758832 L 95.45127869,4.77302265 z\" /><path fill-rule=\"evenodd\" fill=\"#66cc99\" stroke=\"#555555\" stroke-width=\"0.01915437131999999\" opacity=\"0.6\" d=\"M 95.58459473,4.63540411 L 95.5843811,4.63538122 L 95.58241272,4.63486624 L 95.58003235,4.63232088 L 95.58176422,4.63068914 L 95.58216095,4.6280756 L 95.5812912,4.62732458 L 95.57932281,4.627738 L 95.57834625,4.62794065 L 95.5779953,4.62797499 L 95.57759094,4.62809229 L 95.57752991,4.62815094 L 95.57730103,4.62820959 L 95.57701111,4.62832689 L 95.57678223,4.62838554 L 95.57579803,4.62966633 L 95.57516479,4.62995863 L 95.574646,4.6303091 L 95.57418823,4.63083315 L 95.57337952,4.63141632 L 95.57210541,4.63142109 L 95.57112122,4.63067007 L 95.57030487,4.62997627 L 95.56996155,4.6299777 L 95.56972504,4.62992048 L 95.56764984,4.63045025 L 95.56799316,4.63091373 L 95.56787872,4.63120413 L 95.56764984,4.63149548 L 95.56759644,4.63190174 L 95.56771088,4.6323657 L 95.56771088,4.63277197 L 95.56791687,4.63308191 L 95.56552124,4.63539219 L 95.56575775,4.63626194 L 95.56732178,4.63735914 L 95.56946564,4.63758326 L 95.57038879,4.63607073 L 95.57183075,4.63606548 L 95.57386017,4.63687086 L 95.57507324,4.63845348 L 95.57537079,4.63883877 L 95.57381439,4.64029551 L 95.57301331,4.6419239 L 95.57275391,4.64343643 L 95.57247925,4.64425611 L 95.57344055,4.64507151 L 95.5754776,4.64560986 L 95.57874298,4.64587069 L 95.58106232,4.64489889 L 95.58209229,4.64673519 L 95.58419037,4.64803457 L 95.58552551,4.64915228 L 95.58702087,4.65040016 L 95.58559418,4.65003347 L 95.58457947,4.6497736 L 95.58515167,4.6526351 L 95.5851593,4.65489769 L 95.5851593,4.65578318 L 95.58438873,4.65903282 L 95.58292389,4.66071081 L 95.58008575,4.66229534 L 95.57803345,4.66259813 L 95.57636261,4.66289949 L 95.5746994,4.66280746 L 95.57224274,4.66232443 L 95.57107544,4.66409969 L 95.57048798,4.66587257 L 95.56804657,4.668046 L 95.56413269,4.66953659 L 95.56197357,4.66944599 L 95.56118774,4.66916275 L 95.55981445,4.66866684 L 95.5582428,4.66759014 L 95.55784607,4.66641092 L 95.55871582,4.66414499 L 95.55714417,4.66287136 L 95.55613708,4.66153002 L 95.55722809,4.65972281 L 95.55751801,4.65785217 L 95.55489349,4.65805864 L 95.55509949,4.65724039 L 95.55438232,4.65737152 L 95.55368805,4.65658712 L 95.55251312,4.65639448 L 95.55142975,4.65630007 L 95.55015564,4.6566 L 95.54888916,4.65689945 L 95.54751587,4.65719986 L 95.5464325,4.6573019 L 95.54555511,4.65799427 L 95.54447937,4.65868664 L 95.54360199,4.6592803 L 95.54183197,4.65859795 L 95.54152679,4.6567297 L 95.54084015,4.6558466 L 95.53966522,4.65604734 L 95.53919983,4.65660906 L 95.53947449,4.65732718 L 95.53937531,4.65752459 L 95.53928375,4.65771341 L 95.53908539,4.6578207 L 95.53907776,4.65742731 L 95.53851318,4.65872002 L 95.53862,4.65887213 L 95.53868866,4.65905952 L 95.53892517,4.65953636 L 95.53913879,4.66055775 L 95.53934479,4.66280556 L 95.54057312,4.66342354 L 95.54048157,4.66460466 L 95.54008484,4.66470432 L 95.53979492,4.66490221 L 95.54038239,4.66499853 L 95.54009247,4.66529465 L 95.53999329,4.66549206 L 95.53960419,4.66618204 L 95.53936005,4.6666894 L 95.53902435,4.66785669 L 95.53977966,4.66954994 L 95.54207611,4.67158461 L 95.54061127,4.67385292 L 95.53826141,4.67395973 L 95.53610229,4.6741643 L 95.53426361,4.67242765 L 95.53324127,4.67406559 L 95.53256989,4.67802286 L 95.53244019,4.67876959 L 95.53289795,4.68362141 L 95.53134155,4.68677568 L 95.52948761,4.68953753 L 95.52753448,4.69190598 L 95.52480316,4.69476891 L 95.52474976,4.69482613 L 95.52275085,4.6970396 L 95.51971436,4.69901848 L 95.51776123,4.70010757 L 95.5165863,4.70158768 L 95.51463318,4.70297241 L 95.51238251,4.70475149 L 95.5103302,4.70643187 L 95.50775909,4.70561743 L 95.50758362,4.70654011 L 95.50738525,4.70693445 L 95.50689697,4.70752621 L 95.50650787,4.7079215 L 95.50631714,4.70861101 L 95.50601959,4.70890713 L 95.50582886,4.7098918 L 95.50429535,4.71094179 L 95.50469971,4.71094036 L 95.50531769,4.71073437 L 95.50691986,4.71293783 L 95.50868225,4.71194744 L 95.50955963,4.71125555 L 95.51014709,4.71145058 L 95.51043701,4.71031141 L 95.51220703,4.71134472 L 95.51269531,4.7125535 L 95.51331329,4.71296024 L 95.51372528,4.7135725 L 95.51372528,4.7156167 L 95.51321411,4.7190156 L 95.51126862,4.72246647 L 95.50609589,4.73006105 L 95.50267792,4.7337141 L 95.50121307,4.7349 L 95.50062561,4.73568964 L 95.50049591,4.73582029 L 95.50023651,4.73608446 L 95.49945068,4.73707104 L 95.4985733,4.73736954 L 95.49639893,4.73733282 L 95.49612427,4.73895264 L 95.49623108,4.73973942 L 95.49681854,4.74141026 L 95.49771118,4.74347305 L 95.49614716,4.74524975 L 95.49255371,4.74960804 L 95.49031067,4.75288486 L 95.48725128,4.75657272 L 95.48317719,4.76087666 L 95.47296906,4.77030706 L 95.46582794,4.77605009 L 95.46337891,4.7778964 L 95.46250916,4.77843046 L 95.46071625,4.77953863 L 95.45662689,4.78077602 L 95.45274353,4.78283072 L 95.45192719,4.7836504 L 95.45214081,4.7844677 L 95.45336914,4.78589487 L 95.45398712,4.78650665 L 95.45419312,4.78752804 L 95.45409393,4.78870535 L 95.45400238,4.78977728 L 95.45178223,4.79939079 L 95.45056152,4.80205154 L 95.44893646,4.80450869 L 95.44689941,4.8067627 L 95.44561768,4.8077879 L 95.44485474,4.80840349 L 95.44301605,4.80902147 L 95.44137573,4.80922985 L 95.44035339,4.80902815 L 95.43973541,4.80841684 L 95.43891144,4.80780554 L 95.43809509,4.80760336 L 95.43686676,4.80740213 L 95.4342041,4.80802202 L 95.43174744,4.80782413 L 95.4305191,4.80844069 L 95.42847443,4.80905914 L 95.42745209,4.80947065 L 95.42684174,4.8100853 L 95.42643738,4.81110859 L 95.42562866,4.81438112 L 95.42481995,4.81622314 L 95.42414856,4.81701088 L 95.42359161,4.81765699 L 95.42134857,4.81888962 L 95.42012024,4.81930161 L 95.41889191,4.81930447 L 95.41643524,4.81951523 L 95.4156189,4.81992626 L 95.41439056,4.82013369 L 95.41316223,4.82054567 L 95.41275787,4.82197762 L 95.41255951,4.82361364 L 95.41277313,4.82504416 L 95.41318512,4.82545185 L 95.41400146,4.82524538 L 95.41625214,4.82442188 L 95.41727448,4.82421494 L 95.41809082,4.82441711 L 95.42137146,4.82604408 L 95.42383575,4.8266511 L 95.42485809,4.82705736 L 95.42568207,4.82807732 L 95.42609406,4.82971144 L 95.42651367,4.83155012 L 95.42672729,4.83420706 L 95.42633057,4.83625269 L 95.42551422,4.8382988 L 95.42389679,4.84218693 L 95.42308044,4.84393501 L 95.42247009,4.84525728 L 95.42023468,4.84873819 L 95.41901398,4.85119438 L 95.41860962,4.85242176 L 95.41841125,4.85364914 L 95.4178009,4.854877 L 95.41704559,4.85548306 L 95.41677856,4.85569715 L 95.41473389,4.85611153 L 95.41268921,4.85672998 L 95.41105652,4.85775614 L 95.40657043,4.86369562 L 95.40534973,4.86512995 L 95.40392303,4.86656427 L 95.40126801,4.86841106 L 95.40003967,4.8692317 L 95.39902496,4.87046051 L 95.39820862,4.87168932 L 95.39780426,4.87271261 L 95.3976059,4.87434864 L 95.39678955,4.8759861 L 95.39638519,4.87700891 L 95.39680481,4.87905264 L 95.39762878,4.87966394 L 95.39824677,4.88027573 L 95.39866638,4.88111305 L 95.39948273,4.88272572 L 95.40010071,4.8845644 L 95.40073395,4.88885593 L 95.40177155,4.89273787 L 95.40239716,4.89416742 L 95.40080261,4.89576483 L 95.4005661,4.89600468 L 95.39892578,4.89765167 L 95.39770508,4.89867687 L 95.39586639,4.8997035 L 95.39402771,4.9009347 L 95.39280701,4.90236902 L 95.3917923,4.90462017 L 95.39159393,4.90686989 L 95.39139557,4.9078927 L 95.39122772,4.90831947 L 95.39099121,4.90891552 L 95.3901825,4.91157579 L 95.38978577,4.91484785 L 95.38917542,4.91628075 L 95.3883667,4.91812277 L 95.38652802,4.9203763 L 95.38448334,4.92038107 L 95.38059235,4.91998148 L 95.37915802,4.92018938 L 95.37834167,4.9208045 L 95.37814331,4.92182732 L 95.3783493,4.92284918 L 95.37856293,4.92448425 L 95.37774658,4.92591763 L 95.37673187,4.92796469 L 95.37632751,4.92919207 L 95.37612915,4.93082857 L 95.37593842,4.93266916 L 95.37532806,4.93430614 L 95.37431335,4.93573999 L 95.37207031,4.93799448 L 95.37145996,4.93881369 L 95.37147522,4.94228983 L 95.37086487,4.94433594 L 95.36965179,4.94658804 L 95.36884308,4.94904375 L 95.36946106,4.95006466 L 95.37068939,4.95088005 L 95.37397003,4.95250797 L 95.375,4.9535284 L 95.37562561,4.95495844 L 95.37645721,4.95822811 L 95.3770752,4.95924902 L 95.37789917,4.9598608 L 95.3793335,4.96006203 L 95.38076782,4.96169472 L 95.38159943,4.96455574 L 95.38162231,4.96885014 L 95.38121796,4.97069168 L 95.38020325,4.97192097 L 95.37672424,4.97336054 L 95.37489319,4.97459221 L 95.37407684,4.97582102 L 95.37408447,4.97745705 L 95.37492371,4.98154545 L 95.37472534,4.98297787 L 95.37309265,4.9852314 L 95.37120056,4.98598385 L 95.37030792,4.98723269 L 95.37095642,4.98799706 L 95.37007141,4.99175596 L 95.36946869,4.99265862 L 95.36923981,4.99434566 L 95.36904144,4.99568796 L 95.36850739,4.99611139 L 95.3684082,4.99655247 L 95.36833954,4.99735785 L 95.36734772,4.99837685 L 95.36595154,4.99934006 L 95.36456299,5.0002265 L 95.36367798,4.99890757 L 95.36218262,4.99757147 L 95.36082458,4.99738455 L 95.35933685,4.99756241 L 95.35800171,4.99842978 L 95.35791016,5.00011635 L 95.35791779,5.00074863 L 95.35780334,5.00115156 L 95.35786438,5.00155354 L 95.35767365,5.00212908 L 95.35757446,5.00243616 L 95.35740662,5.00264788 L 95.35692596,5.00249624 L 95.35658264,5.00270796 L 95.35622406,5.00292015 L 95.35607147,5.00341892 L 95.35565186,5.00395727 L 95.3556366,5.00485754 L 95.3556366,5.00535583 L 95.35545349,5.00579739 L 95.35539246,5.00629568 L 95.3554306,5.00656414 L 95.35568237,5.0069499 L 95.35629272,5.00691843 L 95.35839844,5.00755453 L 95.3585434,5.00840282 L 95.35772705,5.00922537 L 95.35703278,5.00966692 L 95.35607147,5.00990486 L 95.35548401,5.01049232 L 95.35462952,5.01144505 L 95.3544693,5.01198864 L 95.35449982,5.01260328 L 95.35470581,5.01283646 L 95.35504913,5.01285362 L 95.35535431,5.01287699 L 95.3558197,5.01300812 L 95.35617065,5.01291943 L 95.3568573,5.01326036 L 95.35797882,5.01264906 L 95.35969543,5.01179409 L 95.36068726,5.01141024 L 95.36156464,5.01131916 L 95.36208344,5.01134634 L 95.36255646,5.01143265 L 95.36287689,5.01157761 L 95.36331177,5.01172256 L 95.36369324,5.01195526 L 95.36413574,5.01207066 L 95.36445618,5.01227474 L 95.36530304,5.01244736 L 95.36576843,5.01247454 L 95.36723328,5.0136404 L 95.36670685,5.01441431 L 95.36736298,5.01565504 L 95.36772156,5.01671982 L 95.36790466,5.01790333 L 95.36814117,5.01908636 L 95.36826324,5.02068472 L 95.36856842,5.02216387 L 95.36845398,5.02447319 L 95.36817169,5.02684259 L 95.36759186,5.02950907 L 95.36659241,5.0322361 L 95.36431885,5.03661156 L 95.36239624,5.0388217 L 95.36042023,5.03960037 L 95.35829926,5.03947306 L 95.35716248,5.03827858 L 95.35693359,5.03804064 L 95.35626984,5.03851032 L 95.35594177,5.03884506 L 95.35580444,5.03911304 L 95.35554504,5.03951454 L 95.35494995,5.04010391 L 95.35457611,5.04112959 L 95.35409546,5.04210186 L 95.35340118,5.04345226 L 95.35162354,5.04518414 L 95.34963989,5.04714966 L 95.34801483,5.04811668 L 95.34638977,5.04891205 L 95.34499359,5.04979324 L 95.34347534,5.05020761 L 95.34318542,5.05009222 L 95.34178925,5.05021381 L 95.34184265,5.05009699 L 95.34149933,5.05021477 L 95.34143829,5.05009842 L 95.3409729,5.05039215 L 95.34050751,5.05056906 L 95.33963776,5.0514884 L 95.33876801,5.05061436 L 95.33866119,5.05055475 L 95.33849335,5.05042934 L 95.33840942,5.05036736 L 95.33834839,5.05032158 L 95.33817291,5.05018902 L 95.3374939,5.04967737 L 95.33730316,5.04953098 L 95.33712006,5.0493927 L 95.3368988,5.04922676 L 95.33654785,5.04896212 L 95.33625793,5.04874039 L 95.33560944,5.048913 L 95.33400726,5.04942083 L 95.33275604,5.05007792 L 95.33240509,5.05063105 L 95.33226013,5.05143499 L 95.33221436,5.0527401 L 95.33202362,5.05449772 L 95.33107758,5.0562582 L 95.33100891,5.05650282 L 95.3302536,5.05922508 L 95.33021545,5.05930519 L 95.32981873,5.06008148 L 95.32967377,5.06036663 L 95.32862854,5.06167555 L 95.3272934,5.06277561 L 95.32658386,5.06393194 L 95.32559967,5.06703377 L 95.32518768,5.06781244 L 95.32413483,5.06882 L 95.32328796,5.06912422 L 95.32283783,5.06912613 L 95.32243347,5.06902695 L 95.32202911,5.06882763 L 95.32178497,5.06862783 L 95.32194519,5.06806803 L 95.32112122,5.06785154 L 95.32019043,5.06834936 L 95.32048035,5.06918478 L 95.31987,5.06988859 L 95.31987,5.07071257 L 95.32041931,5.07120466 L 95.32118988,5.07124043 L 95.32128906,5.07189274 L 95.3211441,5.07269621 L 95.32102203,5.07293272 L 95.32043457,5.07404375 L 95.31986237,5.07471704 L 95.3190918,5.07475853 L 95.31864929,5.07491446 L 95.31816864,5.07512856 L 95.3181839,5.07530212 L 95.31801605,5.07561111 L 95.31900024,5.07595491 L 95.31917572,5.07653332 L 95.31851959,5.07759666 L 95.31812286,5.07800341 L 95.31774139,5.07816982 L 95.31745148,5.07843018 L 95.31694794,5.07829666 L 95.31655121,5.07852983 L 95.31654358,5.07874203 L 95.31637573,5.07899332 L 95.3162384,5.07885885 L 95.31568909,5.07897997 L 95.31525421,5.07857561 L 95.31502533,5.07847738 L 95.31482697,5.07812405 L 95.31477356,5.07805395 L 95.31454468,5.0781126 L 95.31439209,5.07796335 L 95.3140564,5.07788277 L 95.31337738,5.07798672 L 95.31267548,5.07796478 L 95.31240845,5.0783515 L 95.3123703,5.07854462 L 95.31219482,5.07864189 L 95.31191254,5.07846212 L 95.31129456,5.0785985 L 95.31063843,5.07863951 L 95.3105011,5.07884073 L 95.31036377,5.07865667 L 95.30863953,5.07975435 L 95.3085022,5.0797739 L 95.30834961,5.07985163 L 95.30773926,5.08029795 L 95.30763245,5.08031416 L 95.30737305,5.08066559 L 95.30699158,5.08089876 L 95.306427,5.08075809 L 95.30633545,5.08099747 L 95.30599213,5.08119917 L 95.30566406,5.08196926 L 95.30645752,5.08182669 L 95.30701447,5.08149672 L 95.30762482,5.08118582 L 95.30789948,5.08151293 L 95.30805206,5.0818553 L 95.30834198,5.08170414 L 95.30843353,5.08181953 L 95.30845642,5.08197355 L 95.30886078,5.08191442 L 95.30957031,5.08158398 L 95.31037903,5.08204412 L 95.31128693,5.08165646 L 95.31164551,5.0815134 L 95.3131485,5.08110666 L 95.31393433,5.08094549 L 95.31474304,5.08070087 L 95.31518555,5.08069944 L 95.31543732,5.08040524 L 95.31600952,5.08034515 L 95.31636047,5.08055639 L 95.31665039,5.08074808 L 95.31687927,5.0809598 L 95.31720734,5.08126688 L 95.31732178,5.08144045 L 95.31748199,5.08161354 L 95.31755829,5.08194113 L 95.31761169,5.08219194 L 95.31762695,5.08235645 L 95.31774139,5.08254194 L 95.31784821,5.08274651 L 95.31807709,5.08293152 L 95.31833649,5.08327484 L 95.31858063,5.08353472 L 95.3191452,5.08383989 L 95.31954193,5.0846014 L 95.32019043,5.08655214 L 95.32040405,5.08765554 L 95.32064819,5.09079695 L 95.32012177,5.09290504 L 95.31950378,5.09343386 L 95.31899261,5.09342718 L 95.31867981,5.09308004 L 95.3182373,5.09320068 L 95.31768799,5.09289694 L 95.31665039,5.09319782 L 95.31575012,5.09359169 L 95.31483459,5.09435081 L 95.31427765,5.09521294 L 95.31387329,5.09582329 L 95.31401062,5.09676552 L 95.31347656,5.09760857 L 95.31340027,5.09774446 L 95.3131485,5.09787273 L 95.31268311,5.09812069 L 95.31201172,5.09798717 L 95.31113434,5.09764242 L 95.3107605,5.09791565 L 95.31104279,5.09823513 L 95.31193542,5.0985651 L 95.31204987,5.09903193 L 95.3120575,5.0993042 L 95.31188202,5.10016203 L 95.31178284,5.10070705 L 95.31241608,5.10089064 L 95.31221771,5.10191011 L 95.31171417,5.10282946 L 95.31111908,5.10348511 L 95.31017303,5.10474586 L 95.30848694,5.10648632 L 95.30817413,5.10698271 L 95.30706787,5.10704136 L 95.30614471,5.10739279 L 95.30550385,5.10810852 L 95.30464172,5.10898638 L 95.30410767,5.10914135 L 95.30392456,5.10960054 L 95.30387115,5.11017942 L 95.30365753,5.11077309 L 95.30343628,5.1111846 L 95.30309296,5.11224461 L 95.30332184,5.112813 L 95.30386353,5.11322975 L 95.30390167,5.11335611 L 95.3039093,5.11460924 L 95.30357361,5.1151123 L 95.302948,5.11565733 L 95.30211639,5.11611652 L 95.30020905,5.11640835 L 95.29934692,5.1163578 L 95.29885864,5.11619759 L 95.29826355,5.11576843 L 95.29507446,5.11227512 L 95.29361725,5.11114836 L 95.29243469,5.11061335 L 95.29205322,5.11018324 L 95.29177856,5.10964489 L 95.29140472,5.10953856 L 95.29080963,5.10986423 L 95.2904892,5.1100812 L 95.28995514,5.11035252 L 95.28925323,5.1103549 L 95.28876495,5.11024904 L 95.28747559,5.10993004 L 95.28649902,5.10923243 L 95.28466797,5.10810709 L 95.28396606,5.1077857 L 95.28326416,5.10778856 L 95.28283691,5.10805941 L 95.2826767,5.10843754 L 95.2827301,5.1088686 L 95.28311157,5.109622 L 95.28370667,5.10999727 L 95.28424072,5.11021137 L 95.28440857,5.11048031 L 95.28440857,5.11091137 L 95.28435516,5.11145067 L 95.28424835,5.11172104 L 95.28403473,5.11209917 L 95.28382111,5.11344767 L 95.28366852,5.11404133 L 95.28344727,5.11436558 L 95.28318024,5.11442041 L 95.28259277,5.1144228 L 95.28199768,5.11426306 L 95.28161621,5.11431837 L 95.28145599,5.11453438 L 95.28140259,5.11475039 L 95.28141022,5.1150198 L 95.28157043,5.11523485 L 95.28189087,5.11555719 L 95.28227234,5.11577177 L 95.28281403,5.11598539 L 95.28399658,5.1168437 L 95.2848053,5.11759567 L 95.28656006,5.11928511 L 95.28845215,5.12014103 L 95.28910065,5.12040854 L 95.28984833,5.12045956 L 95.29162598,5.12034559 L 95.29319,5.11974669 L 95.29576874,5.11887455 L 95.29705811,5.11876249 L 95.29884338,5.119349 L 95.30072784,5.12063646 L 95.30186462,5.12149477 L 95.302948,5.12370157 L 95.30348969,5.12467003 L 95.30381775,5.12504625 L 95.30413818,5.12515306 L 95.30445862,5.12498999 L 95.30445862,5.12477446 L 95.30451202,5.12434292 L 95.30467224,5.12396479 L 95.30493927,5.1237483 L 95.30537415,5.12369299 L 95.30574799,5.12379932 L 95.30634308,5.12433624 L 95.30683136,5.12487364 L 95.30742645,5.12568045 L 95.30802155,5.1264329 L 95.30834961,5.12718678 L 95.30875397,5.12827921 L 95.31073761,5.12914324 L 95.3103714,5.13012123 L 95.30974579,5.13144827 L 95.30844879,5.13180113 L 95.30743408,5.13160086 L 95.30648041,5.13187647 L 95.30619812,5.13237 L 95.3058548,5.13306761 L 95.30567169,5.13362885 L 95.30515289,5.13456488 L 95.3046875,5.13539028 L 95.30410767,5.13648796 L 95.3034668,5.13723755 L 95.30265808,5.13718081 L 95.3022995,5.13756466 L 95.30168152,5.13789797 L 95.30155182,5.13811064 L 95.30150604,5.13850164 L 95.30142212,5.13899422 L 95.30157471,5.13939285 L 95.30187225,5.13965511 L 95.30246735,5.13975477 L 95.30304718,5.13959169 L 95.30342865,5.13948822 L 95.30430603,5.13938332 L 95.30496979,5.13935518 L 95.30532837,5.14003325 L 95.30544281,5.14120483 L 95.30527496,5.14196157 L 95.30523682,5.14241171 L 95.30518341,5.14291286 L 95.30519104,5.14334631 L 95.30527496,5.1437788 L 95.30540466,5.14421177 L 95.30566406,5.14490509 L 95.30609894,5.14549685 L 95.3063736,5.14603472 L 95.30685425,5.14623594 L 95.30712128,5.14659166 L 95.30719757,5.14716911 L 95.30699158,5.14780664 L 95.3068161,5.14818096 L 95.30661011,5.14858103 L 95.30647278,5.14894676 L 95.30597687,5.14930534 L 95.30590057,5.14998484 L 95.30636597,5.15061998 L 95.30664825,5.15145969 L 95.30675507,5.15200281 L 95.30716705,5.15257883 L 95.30726624,5.15282488 L 95.30750275,5.1534524 L 95.30754089,5.15442896 L 95.30774689,5.15528631 L 95.30776215,5.15601635 L 95.30741882,5.15677357 L 95.30732727,5.1575551 L 95.30727386,5.15825796 L 95.30765533,5.1597662 L 95.30838776,5.1610055 L 95.30861664,5.16162682 L 95.30867767,5.16214895 L 95.30843353,5.16269732 L 95.30808258,5.16332865 L 95.30761719,5.16402578 L 95.30723572,5.16474056 L 95.30679321,5.16556597 L 95.30661011,5.16571951 L 95.30635834,5.16608524 L 95.3063736,5.16622972 L 95.30631256,5.16724968 L 95.30680847,5.16732645 L 95.3069458,5.16704893 L 95.30709076,5.16660786 L 95.3072052,5.16643143 L 95.30727386,5.16632986 L 95.30739594,5.16633415 L 95.30845642,5.16641998 L 95.30924225,5.16685581 L 95.31009674,5.16750717 L 95.31109619,5.16837502 L 95.31170654,5.16931391 L 95.31238556,5.16985703 L 95.31288147,5.17047071 L 95.31360626,5.17073822 L 95.31474304,5.17116213 L 95.31674957,5.17178297 L 95.3175354,5.17185783 L 95.31890106,5.17233181 L 95.31915283,5.17247677 L 95.31954193,5.17269373 L 95.31983185,5.17294693 L 95.32032776,5.17334604 L 95.32104492,5.17435694 L 95.32150269,5.17529392 L 95.32164764,5.17576313 L 95.32189178,5.1762681 L 95.32221222,5.17698908 L 95.32239532,5.17767382 L 95.32342529,5.1784339 L 95.32356262,5.17850685 L 95.32396698,5.17872477 L 95.32561493,5.17923498 L 95.32632446,5.17974186 L 95.32711792,5.17985392 L 95.32804871,5.17996597 L 95.32901764,5.18004179 L 95.330513,5.17990494 L 95.33159637,5.18019581 L 95.3327713,5.18106508 L 95.3327713,5.18146086 L 95.33287811,5.18254185 L 95.33283997,5.18290091 L 95.33236694,5.18347502 L 95.33132935,5.18440676 L 95.32978058,5.18533611 L 95.32881165,5.18633986 L 95.32881165,5.18698788 L 95.32888031,5.18752909 L 95.3291626,5.18857384 L 95.32948303,5.18911505 L 95.32976532,5.18940401 L 95.3302002,5.18973017 L 95.33094788,5.1901288 L 95.33181,5.19056511 L 95.33319855,5.19143391 L 95.33403778,5.19219875 L 95.33416748,5.19258976 L 95.33415985,5.19302177 L 95.33377075,5.19370508 L 95.33340454,5.19427919 L 95.33286285,5.19517708 L 95.33243561,5.19578695 L 95.33185577,5.19632483 L 95.33142853,5.19675493 L 95.33035278,5.1971817 L 95.33016968,5.19790077 L 95.33041382,5.19836998 L 95.33087921,5.19862413 L 95.33185577,5.19957972 L 95.33195496,5.19967318 L 95.33205414,5.20068073 L 95.3314743,5.20255089 L 95.33082581,5.20355606 L 95.33028412,5.20481396 L 95.33045959,5.20589399 L 95.33071136,5.20690298 L 95.33163452,5.20766306 L 95.3319931,5.20856476 L 95.33181,5.20903206 L 95.33123779,5.20982122 L 95.33065796,5.21082687 L 95.32939911,5.21215296 L 95.32814026,5.21315575 L 95.32781982,5.21358681 L 95.32705688,5.21477222 L 95.32695007,5.21552706 L 95.32691193,5.21678686 L 95.3270874,5.21768808 L 95.32678986,5.21872997 L 95.32678223,5.21882534 L 95.32672119,5.21923399 L 95.32628632,5.2198801 L 95.32578278,5.22052574 L 95.32513428,5.2210989 L 95.32441711,5.22170782 L 95.32322693,5.22285509 L 95.32215118,5.22407484 L 95.32211304,5.22500992 L 95.32215881,5.22509956 L 95.32550049,5.23123884 L 95.33126831,5.23395777 L 95.33318329,5.23368025 L 95.33474731,5.2341342 L 95.33763885,5.23390675 L 95.33895874,5.23338795 L 95.33976746,5.23384476 L 95.34060669,5.23416662 L 95.34141541,5.23448801 L 95.34214783,5.23562193 L 95.34334564,5.23691607 L 95.34793854,5.23962593 L 95.34746552,5.24102783 L 95.34728241,5.24142313 L 95.34659576,5.24321985 L 95.34666443,5.24397612 L 95.34673309,5.2445159 L 95.34719849,5.24513006 L 95.348526,5.24546003 L 95.34908295,5.24546194 L 95.3499527,5.24521494 L 95.35067749,5.24528885 L 95.35160828,5.24576092 L 95.35202789,5.24586391 L 95.35250092,5.24597979 L 95.35336304,5.24630785 L 95.35411072,5.24667072 L 95.35525513,5.24725199 L 95.3564682,5.24840879 L 95.35677338,5.24872541 L 95.35704041,5.24909496 L 95.35743713,5.24938488 L 95.3582077,5.24995613 L 95.3592453,5.25088596 L 95.35974884,5.25106382 L 95.36079407,5.25181484 L 95.36309052,5.25324297 L 95.36366272,5.25352907 L 95.365242,5.25420618 L 95.36567688,5.25420475 L 95.36638641,5.25420284 L 95.36745453,5.25412893 L 95.36820221,5.25400734 L 95.36857605,5.25394678 L 95.36943054,5.25380087 L 95.37003326,5.2535162 L 95.37010193,5.25361919 L 95.37314606,5.25139093 L 95.37487793,5.25035334 L 95.37500763,5.25015402 L 95.37546539,5.2494688 L 95.37723541,5.2469306 L 95.37796783,5.24424744 L 95.37810516,5.24171543 L 95.37809753,5.23963022 L 95.37913513,5.23813725 L 95.38017273,5.23753786 L 95.38180542,5.23723364 L 95.38284302,5.23722982 L 95.38491821,5.23528576 L 95.38684082,5.23393822 L 95.38698578,5.23304415 L 95.38698578,5.23200178 L 95.38697815,5.23006582 L 95.38697052,5.22932148 L 95.3887558,5.22842121 L 95.3902359,5.22767067 L 95.39142609,5.22766638 L 95.3923111,5.22691822 L 95.39245605,5.2257266 L 95.39200592,5.2245369 L 95.39199829,5.22304773 L 95.39095306,5.22037125 L 95.39124298,5.21962547 L 95.39246368,5.21849728 L 95.39302063,5.21798086 L 95.39524078,5.21678114 L 95.39598846,5.21752262 L 95.39777374,5.21811152 L 95.39822388,5.21825886 L 95.39984894,5.21691227 L 95.40117645,5.21497154 L 95.4019165,5.21452188 L 95.4019165,5.21333027 L 95.40190125,5.21035194 L 95.40387726,5.21142101 L 95.40518188,5.21212673 L 95.40771484,5.21420193 L 95.40994263,5.21553326 L 95.41083527,5.21597672 L 95.412323,5.21626902 L 95.41351318,5.21730661 L 95.41530609,5.2187891 L 95.41635132,5.22072077 L 95.4175415,5.22160959 L 95.41947174,5.22160196 L 95.42155457,5.22174311 L 95.42333984,5.22203398 L 95.42467499,5.22173119 L 95.42556,5.2211318 L 95.42704773,5.22082853 L 95.42883301,5.2211194 L 95.43002319,5.222157 L 95.43121338,5.22215271 L 95.43314362,5.22288942 L 95.43522644,5.22392368 L 95.43611908,5.22392035 L 95.43715668,5.22272491 L 95.43818665,5.22063637 L 95.43907166,5.21914387 L 95.43996429,5.21899128 L 95.44322968,5.21927643 L 95.4473877,5.21911144 L 95.44924164,5.21894264 L 95.45080566,5.21880007 L 95.45198822,5.21805096 L 95.45347595,5.21744967 L 95.45482635,5.21654034 L 95.4552536,5.21625137 L 95.45643616,5.21580029 L 95.45806885,5.21549606 L 95.45985413,5.21534014 L 95.46044159,5.21489096 L 95.46073914,5.21414518 L 95.46147919,5.21354675 L 95.4623642,5.21264982 L 95.46503448,5.21174574 L 95.46696472,5.21173859 L 95.4683075,5.21277523 L 95.46935272,5.21366501 L 95.47054291,5.21336222 L 95.47127533,5.21231699 L 95.47319794,5.21022463 L 95.47528076,5.20991898 L 95.4761734,5.21036196 L 95.47661591,5.2105093 L 95.47944641,5.21154022 L 95.48197174,5.21138144 L 95.48612976,5.211514 L 95.48671722,5.21187449 L 95.48806,5.21269751 L 95.48970032,5.21432924 L 95.49160004,5.21638775 L 95.49298859,5.21788979 L 95.49774933,5.22010422 L 95.49967957,5.22024584 L 95.50086975,5.22009182 L 95.5056076,5.21798849 L 95.51139832,5.21662521 L 95.51599884,5.21601105 L 95.52090454,5.21628952 L 95.52682495,5.21630144 L 95.52687836,5.21622515 L 95.52722168,5.21620607 L 95.52861023,5.21609783 L 95.52979279,5.21603775 L 95.53136444,5.21608829 L 95.53324127,5.21611547 L 95.53562927,5.21609592 L 95.53617859,5.21595049 L 95.53746796,5.21560001 L 95.5382843,5.21492672 L 95.53934479,5.2139411 L 95.5402832,5.21278906 L 95.5403595,5.2126193 L 95.54094696,5.21192408 L 95.54263306,5.2103076 L 95.54382324,5.20916891 L 95.54454803,5.2085681 L 95.54541016,5.20791483 L 95.54587555,5.20747328 L 95.54719543,5.20682383 L 95.54821014,5.20614719 L 95.54908752,5.20605469 L 95.55045319,5.20590496 L 95.55192566,5.20598841 L 95.55376434,5.20626593 L 95.55484772,5.20645523 L 95.55703735,5.20679283 L 95.55923462,5.20694399 L 95.56100464,5.20726347 L 95.56263733,5.20733356 L 95.5629425,5.20727634 L 95.5639801,5.20710754 L 95.56639099,5.20703983 L 95.56735992,5.20709372 L 95.56970978,5.2078619 L 95.57123566,5.20852518 L 95.57309723,5.20908689 L 95.57331848,5.20918941 L 95.57444763,5.20932817 L 95.57519531,5.2093401 L 95.57645416,5.20929623 L 95.57767487,5.20923901 L 95.57855988,5.20937777 L 95.57912445,5.20943928 L 95.58029175,5.20938969 L 95.58187103,5.20922995 L 95.5824585,5.20902348 L 95.58322144,5.20873213 L 95.58444977,5.20829344 L 95.58489227,5.20813417 L 95.58590698,5.20761108 L 95.58731842,5.20696068 L 95.58784485,5.20671844 L 95.58797455,5.20666122 L 95.58837891,5.20632601 L 95.58861542,5.20612097 L 95.58882141,5.20594025 L 95.5891037,5.20569229 L 95.58917236,5.20563221 L 95.58999634,5.2049427 L 95.59041595,5.20447016 L 95.59094238,5.20345449 L 95.59157562,5.20231771 L 95.59204865,5.20124674 L 95.59249878,5.20042515 L 95.59290314,5.19945097 L 95.59333038,5.19869614 L 95.59333038,5.19815683 L 95.59375763,5.1971879 L 95.59386444,5.19625378 L 95.59422302,5.19570732 L 95.59497833,5.19453001 L 95.59540558,5.19406223 L 95.59600067,5.19333363 L 95.59616089,5.19320631 L 95.59710693,5.19246054 L 95.59859467,5.19162273 L 95.59921265,5.19150257 L 95.60048676,5.19135809 L 95.60108185,5.19130468 L 95.602005,5.19125891 L 95.60340118,5.19152498 L 95.60357666,5.19161606 L 95.60398865,5.19163609 L 95.60452271,5.19165373 L 95.60526276,5.19162321 L 95.60668945,5.19151449 L 95.60850525,5.19132185 L 95.60929871,5.19119692 L 95.61012268,5.19100857 L 95.61116791,5.19072485 L 95.61192322,5.19049835 L 95.61265564,5.19012785 L 95.61316681,5.18976498 L 95.61360931,5.18960667 L 95.61464691,5.18924141 L 95.61605835,5.18863583 L 95.6162262,5.1884675 L 95.61643219,5.18825912 L 95.61728668,5.18711329 L 95.61811066,5.18552113 L 95.61820984,5.18542051 L 95.61834717,5.18507671 L 95.61852264,5.1845274 L 95.61884308,5.18397665 L 95.6193161,5.18277788 L 95.61936951,5.18263865 L 95.61959839,5.1821208 L 95.6197052,5.18188 L 95.61973572,5.18177748 L 95.61984253,5.18138361 L 95.61986542,5.18125296 L 95.61988831,5.18105888 L 95.61991882,5.18080187 L 95.61995697,5.18073511 L 95.62025452,5.17993784 L 95.62029266,5.17983246 L 95.62049103,5.17931509 L 95.62052917,5.17921686 L 95.6206131,5.17901468 L 95.62068939,5.17873716 L 95.6210556,5.17762136 L 95.6211319,5.17739153 L 95.62119293,5.17724848 L 95.62121582,5.17713737 L 95.62137604,5.17665243 L 95.62145233,5.17631578 L 95.62155914,5.17581701 L 95.62181091,5.17414427 L 95.6218338,5.17395639 L 95.62189484,5.1735754 L 95.62200928,5.17292929 L 95.62213135,5.17227316 L 95.62218475,5.17197657 L 95.6222229,5.17180967 L 95.62232971,5.17149878 L 95.62262726,5.17063808 L 95.62266541,5.17051125 L 95.62280273,5.17002344 L 95.62300873,5.16948509 L 95.62309265,5.16923618 L 95.62371063,5.16782331 L 95.62391663,5.16739845 L 95.62445831,5.16681147 L 95.62488556,5.16620827 L 95.62550354,5.1655283 L 95.62619781,5.16454792 L 95.62700653,5.16321516 L 95.62791443,5.1618371 L 95.62802124,5.1612258 L 95.62837982,5.16084146 L 95.62874603,5.1604476 L 95.62979126,5.15932226 L 95.630867,5.15806627 L 95.63136292,5.1577673 L 95.63282013,5.15621805 L 95.63597107,5.15274906 L 95.63800812,5.15039825 L 95.639534,5.14840794 L 95.63994598,5.14765453 L 95.64032745,5.14703178 L 95.64092255,5.146245 L 95.6410675,5.14574194 L 95.64135742,5.14527416 L 95.64221191,5.14390993 L 95.64228058,5.14330006 L 95.64239502,5.14317369 L 95.64341736,5.14201307 L 95.64376831,5.14155912 L 95.64414978,5.14096498 L 95.64425659,5.1400671 L 95.64395142,5.13942957 L 95.6437149,5.1390686 L 95.64337921,5.13879538 L 95.64233398,5.13782644 L 95.64151001,5.13700056 L 95.64108276,5.13660574 L 95.64086914,5.13633776 L 95.64002228,5.13582993 L 95.63930511,5.13561583 L 95.63906097,5.13552523 L 95.63785553,5.13456011 L 95.63755035,5.13435602 L 95.63748932,5.13431025 L 95.63685608,5.13379002 L 95.63654327,5.13345957 L 95.63618469,5.13280535 L 95.63594818,5.13240385 L 95.63560486,5.1318655 L 95.63525391,5.13147879 L 95.63510132,5.13098288 L 95.63454437,5.12921524 L 95.6342392,5.12802553 L 95.63385773,5.12656498 L 95.63349915,5.12552404 L 95.63340759,5.12475538 L 95.63324738,5.12347698 L 95.6330719,5.12261486 L 95.63260651,5.12128592 L 95.6324234,5.12044907 L 95.63221741,5.1196475 L 95.63192749,5.11890554 L 95.63169098,5.11801577 L 95.63130951,5.11715603 L 95.63102722,5.1162219 L 95.63071442,5.11479092 L 95.63043976,5.11329079 L 95.63040924,5.11305046 L 95.63020325,5.11166096 L 95.62968445,5.11008215 L 95.62965393,5.10813332 L 95.62965393,5.10806131 L 95.62963104,5.10745907 L 95.62954712,5.10498571 L 95.62953949,5.10454941 L 95.62952423,5.10244131 L 95.6295166,5.10173178 L 95.6295166,5.10107708 L 95.6295166,5.10099506 L 95.62952423,5.09879351 L 95.62971497,5.09600687 L 95.62991333,5.09397078 L 95.63031769,5.09165907 L 95.63056183,5.09094095 L 95.63130951,5.08871937 L 95.63150787,5.08820295 L 95.63208008,5.08702421 L 95.63253021,5.08572197 L 95.63330078,5.08369637 L 95.63405609,5.08156061 L 95.63444519,5.08071899 L 95.63532257,5.07933617 L 95.63671875,5.07771158 L 95.63692474,5.07753277 L 95.63699341,5.07735872 L 95.63786316,5.07598686 L 95.63816833,5.0755105 L 95.63946533,5.07365894 L 95.64061737,5.07264519 L 95.64156342,5.07183933 L 95.64215851,5.07125568 L 95.6424942,5.07085705 L 95.64294434,5.0705471 L 95.64382172,5.0699501 L 95.64494324,5.069314 L 95.64619446,5.06857109 L 95.64665985,5.06829596 L 95.64726257,5.06800175 L 95.6478653,5.06773472 L 95.649086,5.06719208 L 95.64961243,5.06703234 L 95.65081787,5.06650257 L 95.65188599,5.06616688 L 95.65346527,5.06577015 L 95.65453339,5.06545305 L 95.65579987,5.06498909 L 95.65750885,5.06445551 L 95.65887451,5.0640583 L 95.66074371,5.06362438 L 95.66191101,5.06341171 L 95.66285706,5.06319141 L 95.66382599,5.06289625 L 95.66467285,5.06277752 L 95.66484833,5.06275272 L 95.66616058,5.06255245 L 95.66694641,5.06237936 L 95.66892242,5.06199312 L 95.66908264,5.06199551 L 95.66918945,5.06192684 L 95.6701355,5.06167984 L 95.67175293,5.06135035 L 95.67336273,5.06102037 L 95.67466736,5.06081486 L 95.67608643,5.06059074 L 95.67818451,5.06057501 L 95.67903137,5.06052065 L 95.68061829,5.06054592 L 95.6811142,5.06055355 L 95.68269348,5.0605979 L 95.68430328,5.06060696 L 95.68600464,5.0605731 L 95.68722534,5.0605731 L 95.68732452,5.06059933 L 95.68817139,5.0605154 L 95.68997192,5.06023073 L 95.69151306,5.05992365 L 95.69230652,5.05970192 L 95.69299316,5.05955791 L 95.69403076,5.05942106 L 95.69480896,5.05918121 L 95.69563293,5.05902433 L 95.69606781,5.05895376 L 95.69644165,5.05881071 L 95.69775391,5.05830288 L 95.69960785,5.05757856 L 95.69966888,5.05753708 L 95.70018005,5.05712748 L 95.70105743,5.05640888 L 95.70135498,5.0561204 L 95.70179749,5.05571508 L 95.70187378,5.05564547 L 95.70265961,5.05489635 L 95.70348358,5.05391884 L 95.70414734,5.05339718 L 95.70471191,5.05289841 L 95.7053833,5.05259228 L 95.70625305,5.05258226 L 95.70797729,5.05262899 L 95.70893097,5.05291939 L 95.71022797,5.05324554 L 95.71032715,5.05333281 L 95.710495,5.05336857 L 95.71300507,5.05458832 L 95.71372223,5.05480433 L 95.71408081,5.05494738 L 95.71486664,5.05505562 L 95.7155838,5.05516243 L 95.71633911,5.05519867 L 95.71759033,5.05534172 L 95.71899414,5.05541372 L 95.7195282,5.05548429 L 95.72053528,5.05552053 L 95.72221375,5.05555677 L 95.72354126,5.05526829 L 95.72433472,5.05512428 L 95.72541046,5.05476427 L 95.72662354,5.05422544 L 95.72759247,5.05390263 L 95.72830963,5.05368662 L 95.72877502,5.05362225 L 95.729599,5.05350637 L 95.73046112,5.05343437 L 95.73103333,5.05339861 L 95.73178864,5.05339861 L 95.73358154,5.05350542 L 95.73407745,5.05364943 L 95.73540497,5.0542593 L 95.73658752,5.05486965 L 95.73723602,5.05555153 L 95.73848724,5.05677271 L 95.74006653,5.05824423 L 95.74057007,5.05860376 L 95.74201202,5.06008339 L 95.74224854,5.06032753 L 95.74293518,5.06082964 L 95.7432251,5.06117535 L 95.74336243,5.06109095 L 95.74425507,5.06096315 L 95.74611664,5.06057596 L 95.74859619,5.05989885 L 95.75110626,5.05931091 L 95.75276184,5.05881214 L 95.75383759,5.05863523 L 95.75487518,5.05849314 L 95.75652313,5.05813789 L 95.75759888,5.05792522 L 95.75878143,5.05764008 L 95.75967407,5.05728292 L 95.76039124,5.05670977 L 95.76103973,5.05649614 L 95.76239777,5.05570889 L 95.76286316,5.05502701 L 95.76311493,5.05441713 L 95.76325989,5.05402279 L 95.76376343,5.05197716 L 95.76412201,5.05032492 L 95.76444244,5.04849386 L 95.76476288,5.04702187 L 95.76480103,5.04519081 L 95.76483917,5.04422092 L 95.76486969,5.04317999 L 95.76494598,5.04259062 L 95.7649765,5.0422821 L 95.76526642,5.04156399 L 95.765625,5.040308 L 95.76598358,5.03912401 L 95.76641083,5.03797483 L 95.76702118,5.03675604 L 95.76741791,5.03607416 L 95.7685318,5.03478384 L 95.76917267,5.03413916 L 95.77003479,5.03302717 L 95.77064514,5.03184319 L 95.77100372,5.03091002 L 95.77139282,5.03040791 L 95.77185822,5.02926016 L 95.77204132,5.0285058 L 95.77246857,5.02735806 L 95.77336884,5.02642584 L 95.77508545,5.02506495 L 95.77637482,5.02402592 L 95.7773056,5.02334595 L 95.77799225,5.02277279 L 95.77849579,5.02227116 L 95.77924347,5.02097988 L 95.77960205,5.02004719 L 95.78042603,5.01810884 L 95.78074646,5.01728392 L 95.78143311,5.01559687 L 95.78218079,5.01430607 L 95.78232574,5.01322889 L 95.78240204,5.01218796 L 95.78261566,5.01161289 L 95.78297424,5.01093197 L 95.78333282,5.00989103 L 95.78394318,5.00899506 L 95.78479767,5.00813389 L 95.78616333,5.00713205 L 95.78762817,5.00609398 L 95.78895569,5.00516319 L 95.79170227,5.00374556 L 95.79367828,5.00300884 L 95.79537201,5.00223303 L 95.79636383,5.00172424 L 95.79701996,5.00100422 L 95.79769135,5.00000334 L 95.79995728,4.99394178 L 95.80158234,4.99066257 L 95.8030014,4.98840761 L 95.80503845,4.98655987 L 95.80789948,4.98450518 L 95.81361389,4.98060036 L 95.81871033,4.97731113 L 95.82279205,4.97422981 L 95.82707214,4.9697156 L 95.82992554,4.96663809 L 95.83258057,4.96417475 L 95.837883,4.95965767 L 95.84297943,4.95575523 L 95.84542847,4.95390701 L 95.8478775,4.95124006 L 95.85012054,4.94816446 L 95.85113525,4.94632053 L 95.85173798,4.94468212 L 95.85294342,4.93772316 L 95.85394287,4.93178797 L 95.85516357,4.92953444 L 95.85761261,4.92727661 L 95.86087799,4.92522144 L 95.8653717,4.92336702 L 95.86987305,4.92130804 L 95.87374878,4.9190464 L 95.87702179,4.91678667 L 95.87905884,4.9149394 L 95.88150024,4.91125059 L 95.88230896,4.90899849 L 95.88291931,4.90633774 L 95.88594055,4.89385223 L 95.89204407,4.88278961 L 95.89713287,4.87316227 L 95.89957428,4.86906481 L 95.90181732,4.86639929 L 95.90406036,4.86393833 L 95.90896606,4.86044741 L 95.91264343,4.85818672 L 95.91590881,4.85551834 L 95.91876221,4.85182905 L 95.9201889,4.85018873 L 95.92243958,4.84854603 L 95.9253006,4.84690142 L 95.92877197,4.84525537 L 95.93321991,4.84314775 L 95.93920135,4.84031677 L 95.94717407,4.83640862 L 95.94942474,4.8353796 L 95.95269012,4.83352947 L 95.95575714,4.83127165 L 95.95779419,4.82881165 L 95.95941925,4.82471704 L 95.96022797,4.82164717 L 95.96125031,4.82000828 L 95.962883,4.81795883 L 95.96492004,4.81590796 L 95.96696472,4.81426668 L 95.97023773,4.81159878 L 95.97166443,4.80995893 L 95.97653961,4.8016057 L 95.97879028,4.79644251 L 95.98097229,4.794806 L 95.98384094,4.79336262 L 95.9872818,4.79033899 L 95.99115753,4.78659582 L 95.99315643,4.78271437 L 95.99357605,4.77740145 L 95.99442291,4.77366638 L 95.99541473,4.76748991 L 95.9955368,4.76160336 L 95.99480438,4.75643682 L 95.99641418,4.75291586 L 95.99704742,4.75196314 L 96.004776,4.74650383 L 96.00819397,4.74130821 L 96.00883484,4.7399497 L 96.00950623,4.73851061 L 96.0118103,4.73359156 L 96.01223755,4.73267889 L 96.01267242,4.73157787 L 96.01539612,4.72472525 L 96.01728058,4.71997261 L 96.0199585,4.71353292 L 96.02806854,4.69402456 L 96.03147125,4.68364954 L 96.03192139,4.6782937 L 96.03195953,4.67779207 L 96.03196716,4.67483616 L 96.03198242,4.67056465 L 96.03244019,4.66931009 L 96.03278351,4.66891575 L 96.03409576,4.66740704 L 96.03971863,4.66078186 L 96.04244995,4.65757179 L 96.04226685,4.65748119 L 96.03987122,4.65269327 L 96.03660583,4.64790916 L 96.03457642,4.64460659 L 96.03368378,4.64221764 L 96.0326767,4.63869238 L 96.03259277,4.63164997 L 96.03250122,4.6280756 L 96.03199005,4.6277318 L 96.03135681,4.62669754 L 96.03078461,4.6251483 L 96.03027344,4.62301922 L 96.02983093,4.62101936 L 96.02862549,4.6189518 L 96.02792358,4.61753082 L 96.02773285,4.61649895 L 96.02793121,4.61540413 L 96.02832031,4.61456776 L 96.02909088,4.61366844 L 96.03025818,4.61298227 L 96.03000641,4.61246538 L 96.03000641,4.61188555 L 96.03040314,4.61034012 L 96.03150177,4.60892677 L 96.03330994,4.60700083 L 96.03504944,4.60520315 L 96.03588867,4.60385323 L 96.03666687,4.60205173 L 96.03744507,4.60089493 L 96.03995514,4.60009003 L 96.04371643,4.59855032 L 96.04633331,4.59733343 L 96.04854584,4.59570503 L 96.04994202,4.59374619 L 96.05109406,4.59088612 L 96.05135345,4.58843136 L 96.05120087,4.58515596 L 96.05063629,4.58370447 L 96.04965973,4.58345461 L 96.04785919,4.58320141 L 96.04721069,4.58197117 L 96.04673004,4.57984066 L 96.04724121,4.57566786 L 96.04749298,4.57255793 L 96.04692841,4.57083654 L 96.04685211,4.56977224 L 96.04685974,4.56854439 L 96.04694366,4.56739855 L 96.04695129,4.5668087 L 96.04653931,4.56633282 L 96.04573059,4.56608391 L 96.04344177,4.56550121 L 96.04173279,4.56492138 L 96.0401001,4.56368637 L 96.03887939,4.56319046 L 96.03668213,4.56244469 L 96.03646851,4.56243849 L 96.03333282,4.56234884 L 96.03031158,4.56258202 L 96.02786255,4.56248999 L 96.02752686,4.56230307 L 96.02493286,4.56084061 L 96.02110291,4.55853271 L 96.01886749,4.55690908 L 96.01144409,4.55089092 L 96.00965118,4.54942322 L 96.0092926,4.54913139 L 96.00912476,4.54899597 L 96.00701904,4.54731703 L 96.00567627,4.54621983 L 96.0055542,4.54609346 L 96.00514984,4.54568195 L 96.00315094,4.54366398 L 96.0014267,4.54175425 L 96.00066376,4.54045153 L 96.00000763,4.53921986 L 95.99645233,4.53892136 L 95.99235535,4.53791046 L 95.98845673,4.5362854 L 95.98813629,4.53606939 L 95.98270416,4.53241634 L 95.98044586,4.53037786 L 95.97408295,4.52569342 L 95.96874237,4.52161932 L 95.96648407,4.51958084 L 95.96484375,4.51774549 L 95.95846558,4.5095849 L 95.95581055,4.50619411 L 95.95558929,4.50591278 L 95.95373535,4.50326014 L 95.95188141,4.49835777 L 95.95052338,4.495152 L 95.94919586,4.49202681 L 95.94651031,4.48652792 L 95.94610596,4.48569727 L 95.944664,4.48304367 L 95.94420624,4.4823947 L 95.94412994,4.48228788 L 95.94322968,4.48100281 L 95.94137573,4.47835064 L 95.9391098,4.47385883 L 95.93519592,4.46569157 L 95.93251038,4.45915651 L 95.93045044,4.45343733 L 95.92775726,4.44465303 L 95.92610931,4.44159126 L 95.924263,4.43873453 L 95.92220306,4.4362874 L 95.91973877,4.43384171 L 95.91891479,4.43282175 L 95.91829681,4.43118811 L 95.91788483,4.42934895 L 95.9176712,4.42730474 L 95.91745758,4.4230113 L 95.91641998,4.41933393 L 95.91625977,4.41899252 L 95.91436005,4.41484213 L 95.91209412,4.41096449 L 95.90675354,4.40423441 L 95.90435028,4.40047121 L 95.90428162,4.40035772 L 95.90278625,4.39825869 L 95.89975739,4.39403391 L 95.89770508,4.39138269 L 95.89655304,4.38952589 L 95.89634705,4.38919735 L 95.89604187,4.38874102 L 95.89585876,4.38846731 L 95.89359283,4.38505793 L 95.8913269,4.38158941 L 95.89009094,4.37954903 L 95.88886261,4.37832642 L 95.88444519,4.37525892 L 95.88270569,4.37405348 L 95.88024139,4.37242603 L 95.87780762,4.36902142 L 95.87763977,4.36878157 L 95.87673187,4.36754465 L 95.86860657,4.37658024 L 95.86849976,4.37669182 L 95.86799622,4.37723446 L 95.86782837,4.37741613 L 95.8598175,4.38601732 L 95.85988617,4.38605928 L 95.85476685,4.39167356 L 95.84727478,4.39981079 L 95.84750366,4.40005827 L 95.83956909,4.40759945 L 95.82241821,4.42739296 L 95.81902313,4.43129635 L 95.81889343,4.43099546 L 95.81456757,4.43573618 L 95.80618286,4.44492722 L 95.80138397,4.45018911 L 95.80075836,4.45087242 L 95.7972641,4.45470381 L 95.79582214,4.45628023 L 95.79116058,4.46102858 L 95.79087067,4.46173 L 95.78594208,4.46711636 L 95.78004456,4.47260427 L 95.77103424,4.48345184 L 95.76280212,4.49247694 L 95.76504517,4.49387312 L 95.76461792,4.49435997 L 95.76248169,4.4962697 L 95.7607193,4.49817848 L 95.75946045,4.49983168 L 95.75656891,4.5031395 L 95.75429535,4.50365543 L 95.7530365,4.50632286 L 95.75013733,4.50810909 L 95.74812317,4.50976515 L 95.74751282,4.51407909 L 95.74435425,4.51409101 L 95.7429657,4.51561785 L 95.74145508,4.51587725 L 95.73830414,4.5194397 L 95.73666382,4.52020645 L 95.73692322,4.52160072 L 95.73566437,4.52249289 L 95.73553467,4.52160597 L 95.73062134,4.526443 L 95.72936249,4.52644777 L 95.72835541,4.52784634 L 95.7274704,4.52810335 L 95.72394562,4.53115988 L 95.72142792,4.53345203 L 95.71814728,4.53587341 L 95.71815491,4.53622246 L 95.71815491,4.53764868 L 95.71651459,4.53854275 L 95.71538544,4.5403223 L 95.71412659,4.54184866 L 95.7122345,4.54236317 L 95.71084595,4.5419879 L 95.70970917,4.5432601 L 95.70819855,4.54466057 L 95.70744324,4.54567814 L 95.70593262,4.54657125 L 95.70404816,4.54822683 L 95.70178223,4.55051804 L 95.69812775,4.55332136 L 95.6942215,4.556633 L 95.69006348,4.55994558 L 95.68527222,4.56376791 L 95.68338776,4.56555033 L 95.6813736,4.56720638 L 95.67985535,4.56848001 L 95.67808533,4.56848669 L 95.67726898,4.57019281 L 95.67520905,4.5675416 L 95.67411041,4.5689168 L 95.67207336,4.57027102 L 95.67044067,4.57144833 L 95.66753387,4.57403564 L 95.66433716,4.57662392 L 95.66061401,4.57927275 L 95.65991211,4.57980204 L 95.65933228,4.5799799 L 95.65595245,4.58198357 L 95.65242767,4.58452463 L 95.65170288,4.58504438 L 95.64833069,4.58810139 L 95.64483643,4.59074926 L 95.64221954,4.59228182 L 95.64019012,4.5947485 L 95.63954926,4.59568787 L 95.63878632,4.5958662 L 95.63822174,4.59637403 L 95.63722229,4.59727764 L 95.63646698,4.59815836 L 95.63565063,4.59862995 L 95.63510895,4.5988698 L 95.63454437,4.60057211 L 95.6315918,4.60285044 L 95.62847137,4.60621071 L 95.62737274,4.60740089 L 95.62216949,4.61294651 L 95.6199646,4.61456823 L 95.61620331,4.61734295 L 95.61540222,4.61793137 L 95.61244965,4.62049294 L 95.61011505,4.62256145 L 95.60707855,4.62525654 L 95.60644531,4.62554884 L 95.60610199,4.62584019 L 95.60333252,4.62782383 L 95.59693146,4.63140821 L 95.59686279,4.63144636 L 95.58750916,4.63571835 L 95.58587646,4.63554239 L 95.58459473,4.63540411 z\" /></g></g></svg>"
          },
          "metadata": {
            "tags": []
          },
          "execution_count": 14
        }
      ]
    },
    {
      "cell_type": "code",
      "metadata": {
        "colab": {
          "base_uri": "https://localhost:8080/"
        },
        "id": "dHJqsYmsX7h2",
        "outputId": "61feb432-78be-4d15-b84d-51633f92d1bc"
      },
      "source": [
        "mpolygon = df_geo.loc[3,'geometry']\r\n",
        "\r\n",
        "print(mpolygon.centroid.x)\r\n",
        "print(mpolygon.centroid.y)"
      ],
      "execution_count": 15,
      "outputs": [
        {
          "output_type": "stream",
          "text": [
            "95.67851139908825\n",
            "4.833062320869889\n"
          ],
          "name": "stdout"
        }
      ]
    },
    {
      "cell_type": "code",
      "metadata": {
        "colab": {
          "base_uri": "https://localhost:8080/"
        },
        "id": "bmwcJVSlcvwe",
        "outputId": "6ded2ca4-589b-43ff-953e-a8b2557c0c07"
      },
      "source": [
        "mpolygon = df_geo.loc[501,'geometry']\r\n",
        "\r\n",
        "print(mpolygon.centroid.x)\r\n",
        "print(mpolygon.centroid.y)"
      ],
      "execution_count": 16,
      "outputs": [
        {
          "output_type": "stream",
          "text": [
            "110.38349070596588\n",
            "-7.715434582698144\n"
          ],
          "name": "stdout"
        }
      ]
    },
    {
      "cell_type": "code",
      "metadata": {
        "id": "Z6QyX8bCdJdU"
      },
      "source": [
        "df_geo['centroid_longitude'] = df_geo['geometry'].apply(lambda pol: pol.centroid.x)\r\n",
        "df_geo['centroid_latitude'] = df_geo['geometry'].apply(lambda pol: pol.centroid.y)"
      ],
      "execution_count": 17,
      "outputs": []
    },
    {
      "cell_type": "code",
      "metadata": {
        "id": "K10kORI8diyu"
      },
      "source": [
        "# df_geo\r\n",
        "# df_geo.info()"
      ],
      "execution_count": 18,
      "outputs": []
    },
    {
      "cell_type": "markdown",
      "metadata": {
        "id": "2xrqK5ACvyIk"
      },
      "source": [
        "### Imputer\r\n",
        "\r\n",
        "Masukkan Kode Kabupaten/Kota yang sebelumnya bernilai Null"
      ]
    },
    {
      "cell_type": "code",
      "metadata": {
        "id": "xMBUhHURv0wb"
      },
      "source": [
        "kode_kab_add = {\r\n",
        "    \"Batam\": 2171.0,\r\n",
        "    \"Jakarta Timur\": 3172.0,\r\n",
        "    \"Ambon\": 8171.0\r\n",
        "}\r\n",
        "\r\n",
        "for kab, kode in kode_kab_add.items():\r\n",
        "  ix = df_rs[df_rs[\"Nama kab/kota\"] == kab].index\r\n",
        "  df_rs.loc[ix,'Kode Kab'] = kode\r\n",
        "\r\n",
        "converter = lambda x: str(x).split('.')[0]\r\n",
        "df_rs['Kode Kab'] = df_rs['Kode Kab'].apply(converter)"
      ],
      "execution_count": 19,
      "outputs": []
    },
    {
      "cell_type": "markdown",
      "metadata": {
        "id": "VC_FW8Uafz7l"
      },
      "source": [
        "### RS Terdekat"
      ]
    },
    {
      "cell_type": "code",
      "metadata": {
        "id": "g5LrqKX3f5Se"
      },
      "source": [
        "df_geo['rs_name'] = None\r\n",
        "df_geo['rs_longitude'] = None\r\n",
        "df_geo['rs_latitude'] = None\r\n",
        "\r\n",
        "for ix_city, row_city in df_geo.iterrows():\r\n",
        "  city_point = Point(row_city['centroid_longitude'], row_city['centroid_latitude'])\r\n",
        "  rs_nearest_name = None\r\n",
        "  rs_nearest_coord = None\r\n",
        "  rs_nearest_dist = 0\r\n",
        "  \r\n",
        "  for ix_rs, row_rs in df_rs[['Nama RS Rujukan', 'Longitude', 'Latitude']].iterrows():\r\n",
        "    rs_point = Point(row_rs['Longitude'], row_rs['Latitude'])\r\n",
        "\r\n",
        "    if (rs_nearest_name == None) or (city_point.distance(rs_point) < rs_nearest_dist):\r\n",
        "      rs_nearest_name = row_rs['Nama RS Rujukan']\r\n",
        "      rs_nearest_coord = row_rs['Longitude'], row_rs['Latitude']\r\n",
        "      rs_nearest_dist = city_point.distance(rs_point)\r\n",
        "  \r\n",
        "  df_geo.loc[ix_city, 'rs_name'] = rs_nearest_name\r\n",
        "  df_geo.loc[ix_city, 'rs_longitude'] = rs_nearest_coord[0]\r\n",
        "  df_geo.loc[ix_city, 'rs_latitude'] = rs_nearest_coord[1]"
      ],
      "execution_count": 20,
      "outputs": []
    },
    {
      "cell_type": "code",
      "metadata": {
        "colab": {
          "base_uri": "https://localhost:8080/",
          "height": 416
        },
        "id": "nqbNfIzOf5J8",
        "outputId": "7643a95b-a4d1-45a8-d0d5-e937f41bdde0"
      },
      "source": [
        "selected_columns = ['CC_2','NAME_2','centroid_longitude','centroid_latitude','rs_name','rs_longitude','rs_latitude']\r\n",
        "df_geo[selected_columns]"
      ],
      "execution_count": 25,
      "outputs": [
        {
          "output_type": "execute_result",
          "data": {
            "text/html": [
              "<div>\n",
              "<style scoped>\n",
              "    .dataframe tbody tr th:only-of-type {\n",
              "        vertical-align: middle;\n",
              "    }\n",
              "\n",
              "    .dataframe tbody tr th {\n",
              "        vertical-align: top;\n",
              "    }\n",
              "\n",
              "    .dataframe thead th {\n",
              "        text-align: right;\n",
              "    }\n",
              "</style>\n",
              "<table border=\"1\" class=\"dataframe\">\n",
              "  <thead>\n",
              "    <tr style=\"text-align: right;\">\n",
              "      <th></th>\n",
              "      <th>CC_2</th>\n",
              "      <th>NAME_2</th>\n",
              "      <th>centroid_longitude</th>\n",
              "      <th>centroid_latitude</th>\n",
              "      <th>rs_name</th>\n",
              "      <th>rs_longitude</th>\n",
              "      <th>rs_latitude</th>\n",
              "    </tr>\n",
              "  </thead>\n",
              "  <tbody>\n",
              "    <tr>\n",
              "      <th>0</th>\n",
              "      <td>1107</td>\n",
              "      <td>Aceh Barat</td>\n",
              "      <td>96.185295</td>\n",
              "      <td>4.456668</td>\n",
              "      <td>RSU Cut Meutia Lhoksemawe</td>\n",
              "      <td>97.149</td>\n",
              "      <td>5.1892</td>\n",
              "    </tr>\n",
              "    <tr>\n",
              "      <th>1</th>\n",
              "      <td>1112</td>\n",
              "      <td>Aceh Barat Daya</td>\n",
              "      <td>96.878320</td>\n",
              "      <td>3.824899</td>\n",
              "      <td>RSU Cut Meutia Lhoksemawe</td>\n",
              "      <td>97.149</td>\n",
              "      <td>5.1892</td>\n",
              "    </tr>\n",
              "    <tr>\n",
              "      <th>2</th>\n",
              "      <td>1108</td>\n",
              "      <td>Aceh Besar</td>\n",
              "      <td>95.514989</td>\n",
              "      <td>5.380545</td>\n",
              "      <td>RSU Dr. Zainoel Abidin</td>\n",
              "      <td>95.3411</td>\n",
              "      <td>5.56997</td>\n",
              "    </tr>\n",
              "    <tr>\n",
              "      <th>3</th>\n",
              "      <td>1116</td>\n",
              "      <td>Aceh Jaya</td>\n",
              "      <td>95.678511</td>\n",
              "      <td>4.833062</td>\n",
              "      <td>RSU Dr. Zainoel Abidin</td>\n",
              "      <td>95.3411</td>\n",
              "      <td>5.56997</td>\n",
              "    </tr>\n",
              "    <tr>\n",
              "      <th>4</th>\n",
              "      <td>1103</td>\n",
              "      <td>Aceh Selatan</td>\n",
              "      <td>97.435373</td>\n",
              "      <td>3.162858</td>\n",
              "      <td>RS Umum Daerah Kabanjahe</td>\n",
              "      <td>98.4546</td>\n",
              "      <td>3.13857</td>\n",
              "    </tr>\n",
              "    <tr>\n",
              "      <th>...</th>\n",
              "      <td>...</td>\n",
              "      <td>...</td>\n",
              "      <td>...</td>\n",
              "      <td>...</td>\n",
              "      <td>...</td>\n",
              "      <td>...</td>\n",
              "      <td>...</td>\n",
              "    </tr>\n",
              "    <tr>\n",
              "      <th>497</th>\n",
              "      <td>3402</td>\n",
              "      <td>Bantul</td>\n",
              "      <td>110.354695</td>\n",
              "      <td>-7.901664</td>\n",
              "      <td>RSUD Panembahan Senopati</td>\n",
              "      <td>110.338</td>\n",
              "      <td>-7.89272</td>\n",
              "    </tr>\n",
              "    <tr>\n",
              "      <th>498</th>\n",
              "      <td>3403</td>\n",
              "      <td>Gunung Kidul</td>\n",
              "      <td>110.612085</td>\n",
              "      <td>-7.994254</td>\n",
              "      <td>RSUP dr. Soeradji Tirtonegoro Klaten</td>\n",
              "      <td>110.588</td>\n",
              "      <td>-7.71518</td>\n",
              "    </tr>\n",
              "    <tr>\n",
              "      <th>499</th>\n",
              "      <td>3471</td>\n",
              "      <td>Kota Yogyakarta</td>\n",
              "      <td>110.374354</td>\n",
              "      <td>-7.803291</td>\n",
              "      <td>RSUD Kota Yogyakarta</td>\n",
              "      <td>110.378</td>\n",
              "      <td>-7.82586</td>\n",
              "    </tr>\n",
              "    <tr>\n",
              "      <th>500</th>\n",
              "      <td>3401</td>\n",
              "      <td>Kulon Progo</td>\n",
              "      <td>110.167122</td>\n",
              "      <td>-7.819815</td>\n",
              "      <td>RSUD Wates</td>\n",
              "      <td>110.128</td>\n",
              "      <td>-7.89321</td>\n",
              "    </tr>\n",
              "    <tr>\n",
              "      <th>501</th>\n",
              "      <td>3404</td>\n",
              "      <td>Sleman</td>\n",
              "      <td>110.383491</td>\n",
              "      <td>-7.715435</td>\n",
              "      <td>RSUP dr. Sardjito</td>\n",
              "      <td>110.374</td>\n",
              "      <td>-7.76851</td>\n",
              "    </tr>\n",
              "  </tbody>\n",
              "</table>\n",
              "<p>501 rows × 7 columns</p>\n",
              "</div>"
            ],
            "text/plain": [
              "     CC_2           NAME_2  ...  rs_longitude  rs_latitude\n",
              "0    1107       Aceh Barat  ...        97.149       5.1892\n",
              "1    1112  Aceh Barat Daya  ...        97.149       5.1892\n",
              "2    1108       Aceh Besar  ...       95.3411      5.56997\n",
              "3    1116        Aceh Jaya  ...       95.3411      5.56997\n",
              "4    1103     Aceh Selatan  ...       98.4546      3.13857\n",
              "..    ...              ...  ...           ...          ...\n",
              "497  3402           Bantul  ...       110.338     -7.89272\n",
              "498  3403     Gunung Kidul  ...       110.588     -7.71518\n",
              "499  3471  Kota Yogyakarta  ...       110.378     -7.82586\n",
              "500  3401      Kulon Progo  ...       110.128     -7.89321\n",
              "501  3404           Sleman  ...       110.374     -7.76851\n",
              "\n",
              "[501 rows x 7 columns]"
            ]
          },
          "metadata": {
            "tags": []
          },
          "execution_count": 25
        }
      ]
    },
    {
      "cell_type": "markdown",
      "metadata": {
        "id": "PAxgJYTM5AmI"
      },
      "source": [
        "### Output"
      ]
    },
    {
      "cell_type": "code",
      "metadata": {
        "id": "p8KgZ3cuglmd"
      },
      "source": [
        "# df_rs = df_rs.merge(df_geo, how='left', left_on=\"Kode Kab\", right_on=\"CC_2\")\r\n",
        "# df_rs.info()"
      ],
      "execution_count": 22,
      "outputs": []
    },
    {
      "cell_type": "code",
      "metadata": {
        "id": "JG4Nex0P2HoA"
      },
      "source": [
        "# df_rs.to_csv(\"data_RSrujukanCovid.csv\", sep=\",\", index=False)"
      ],
      "execution_count": 23,
      "outputs": []
    },
    {
      "cell_type": "code",
      "metadata": {
        "id": "rjx0pAWVf5Gu"
      },
      "source": [
        "df_geo[selected_columns].to_csv(\"Rumah Sakit Rujukan Terdekat.csv\", index=False)"
      ],
      "execution_count": 26,
      "outputs": []
    },
    {
      "cell_type": "code",
      "metadata": {
        "id": "a2tx_vYf_82U"
      },
      "source": [
        ""
      ],
      "execution_count": null,
      "outputs": []
    }
  ]
}